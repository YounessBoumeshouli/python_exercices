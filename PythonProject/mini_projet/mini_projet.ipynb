{
 "cells": [
  {
   "cell_type": "code",
   "execution_count": null,
   "id": "initial_id",
   "metadata": {
    "collapsed": true
   },
   "outputs": [],
   "source": [
    ""
   ]
  },
  {
   "metadata": {},
   "cell_type": "markdown",
   "source": "",
   "id": "42641f8ba856c2cf"
  },
  {
   "metadata": {
    "ExecuteTime": {
     "end_time": "2025-09-25T08:12:36.041559Z",
     "start_time": "2025-09-25T08:12:21.754972Z"
    }
   },
   "cell_type": "code",
   "source": [
    "import tkinter as tk\n",
    "\n",
    "\n",
    "root = tk.Tk()\n",
    "\n",
    "message = tk.Label(root, text=\"Hello, World!\")\n",
    "message.pack()\n",
    "root.mainloop()"
   ],
   "id": "a8987ce6429e58ac",
   "outputs": [
    {
     "name": "stdout",
     "output_type": "stream",
     "text": [
      "hello\n"
     ]
    }
   ],
   "execution_count": 4
  },
  {
   "metadata": {},
   "cell_type": "code",
   "outputs": [],
   "execution_count": null,
   "source": [
    "class User :\n",
    " __name : str\n",
    " __email : str\n",
    " __telephone : str\n",
    " __password : str\n",
    "\n",
    " def __init(self,name,email,telephone,password):\n",
    "     self._id = None\n",
    "     self.name = name\n",
    "     self.email = email\n",
    "     self.telephone = telephone\n",
    "     self.password = password\n",
    "@property\n",
    "def id(self):\n",
    "    return self.id"
   ],
   "id": "9379b61206b2d46f"
  },
  {
   "metadata": {},
   "cell_type": "code",
   "outputs": [],
   "execution_count": null,
   "source": [
    "class Todolist :\n",
    " def __init(self,name,email,telephone,password,created_at = None):\n",
    "     self._id = None\n",
    "     self.created_at = created_at\n",
    "     self.name = name\n",
    "     self.email = email\n",
    "     self.telephone = telephone\n",
    "     self.password = password\n",
    "@property\n",
    "def id(self):\n",
    "    return self.id\n",
    "\n"
   ],
   "id": "c020d08657f46705"
  }
 ],
 "metadata": {
  "kernelspec": {
   "display_name": "Python 3",
   "language": "python",
   "name": "python3"
  },
  "language_info": {
   "codemirror_mode": {
    "name": "ipython",
    "version": 2
   },
   "file_extension": ".py",
   "mimetype": "text/x-python",
   "name": "python",
   "nbconvert_exporter": "python",
   "pygments_lexer": "ipython2",
   "version": "2.7.6"
  }
 },
 "nbformat": 4,
 "nbformat_minor": 5
}
