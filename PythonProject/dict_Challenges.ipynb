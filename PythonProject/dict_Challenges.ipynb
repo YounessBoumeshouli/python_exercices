{
 "cells": [
  {
   "metadata": {},
   "cell_type": "markdown",
   "source": "Challenge 1 : Manipulation des dictionnaires Python",
   "id": "bddca302a26573d4"
  },
  {
   "metadata": {
    "collapsed": true,
    "ExecuteTime": {
     "end_time": "2025-09-17T10:59:04.130600Z",
     "start_time": "2025-09-17T10:59:04.126202Z"
    }
   },
   "cell_type": "code",
   "source": [
    "First_dict = { \"Appareil\": \"Laptop\", \"Marque\": \"IBM\", \"Carte mère\": \"MSI Z490\", \"Carte Graphique\":\"GeForce RTX 3070\", \"RAM\": \"16G\", \"Processeur\": \"Intel core i7-G11\", \"SSD\": \"1 To\" }\n",
    "First_dict[\"RAM\"] = \"32G\"\n",
    "values = list(First_dict.values())\n",
    "keys = list(First_dict.values())\n",
    "\n",
    "print(First_dict)\n",
    "print(\"La liste des valeurs : \",values)\n",
    "print(\"La liste des cles : \",keys)"
   ],
   "id": "4534853880c9fd00",
   "outputs": [
    {
     "name": "stdout",
     "output_type": "stream",
     "text": [
      "{'Appareil': 'Laptop', 'Marque': 'IBM', 'Carte mère': 'MSI Z490', 'Carte Graphique': 'GeForce RTX 3070', 'RAM': '32G', 'Processeur': 'Intel core i7-G11', 'SSD': '1 To'}\n",
      "La liste des valeurs :  ['Laptop', 'IBM', 'MSI Z490', 'GeForce RTX 3070', '32G', 'Intel core i7-G11', '1 To']\n",
      "La liste des cles :  ['Laptop', 'IBM', 'MSI Z490', 'GeForce RTX 3070', '32G', 'Intel core i7-G11', '1 To']\n"
     ]
    }
   ],
   "execution_count": 6
  },
  {
   "metadata": {},
   "cell_type": "markdown",
   "source": "Inverser les paires \"Processeur\" : \"Intel core i7-G11\" et \"Carte Graphique\" : \"GeForce RTX 3070\"",
   "id": "9e790406151026f7"
  },
  {
   "metadata": {
    "ExecuteTime": {
     "end_time": "2025-09-17T10:59:05.930170Z",
     "start_time": "2025-09-17T10:59:05.926215Z"
    }
   },
   "cell_type": "code",
   "source": [
    "\n",
    "First_dict[\"Intel core i7-G11\"]  = First_dict.pop(\"Processeur\")\n",
    "First_dict[\"Intel core i7-G11\"]   =  \"Processeur\"\n",
    "First_dict[\"GeForce RTX 3070\"]  = First_dict.pop(\"Carte Graphique\")\n",
    "First_dict[\"GeForce RTX 3070\"]  = \"Carte Graphique\"\n",
    "print(First_dict)\n"
   ],
   "id": "22056cda342ebee",
   "outputs": [
    {
     "name": "stdout",
     "output_type": "stream",
     "text": [
      "{'Appareil': 'Laptop', 'Marque': 'IBM', 'Carte mère': 'MSI Z490', 'RAM': '32G', 'SSD': '1 To', 'Intel core i7-G11': 'Processeur', 'GeForce RTX 3070': 'Carte Graphique'}\n"
     ]
    }
   ],
   "execution_count": 7
  },
  {
   "metadata": {},
   "cell_type": "markdown",
   "source": "Ajouter la paire clé-valeur suivante : \"Système d’exploitation\": \"Windows 10\"\n",
   "id": "181ed5299d03aa59"
  },
  {
   "metadata": {
    "ExecuteTime": {
     "end_time": "2025-09-17T11:00:39.895040Z",
     "start_time": "2025-09-17T11:00:39.892621Z"
    }
   },
   "cell_type": "code",
   "source": "First_dict[\"Système d’exploitation\"] = \"Windows 10\"\n",
   "id": "17ec22806f09ad3d",
   "outputs": [],
   "execution_count": 8
  },
  {
   "metadata": {},
   "cell_type": "markdown",
   "source": [
    "notes_eleves = { \"Amine\": 15.5, \"Yassine\": 19.0, \"Reda\": 14.2, \"Malak\": 8.7, \"Manal\": 20.0, \"Ahmed\": 7.5,\"Saad\": 11.3, \"Hannae\": 9.8 }\n",
    "\n",
    "\n",
    "Écrire un programme Python qui partitionne ce dictionnaire en deux sous dictionnaires :\n",
    "\n",
    "\n",
    "etudiantAdmis dont les clés sont les étudiants admis et les valeurs des clés sont les moyennes obtenues (moyenne supérieures ou égales à 10 ).\n",
    "\n",
    "etudiantNonAdmis dont les clés sont les étudiants non admis et les valeurs des clés sont les moyennes obtenues (moyenne inférieur ou égale à 10)."
   ],
   "id": "9233211bd8014ccd"
  },
  {
   "metadata": {
    "ExecuteTime": {
     "end_time": "2025-09-17T11:07:05.897671Z",
     "start_time": "2025-09-17T11:07:05.894482Z"
    }
   },
   "cell_type": "code",
   "source": [
    "notes_eleves = { \"Amine\": 15.5, \"Yassine\": 19.0, \"Reda\": 14.2, \"Malak\": 8.7, \"Manal\": 20.0, \"Ahmed\": 7.5,\"Saad\": 11.3, \"Hannae\": 9.8 }\n",
    "\n",
    "etudiantAdmis = {}\n",
    "etudiantNonAdmis ={}\n",
    "\n",
    "for i , v in notes_eleves.items() :\n",
    "    if v > 10 :\n",
    "        etudiantAdmis[i] = notes_eleves[i]\n",
    "    else :\n",
    "        etudiantNonAdmis[i] = notes_eleves[i]\n",
    "\n",
    "print(etudiantAdmis)\n",
    "print(etudiantNonAdmis)"
   ],
   "id": "530e555340c736cb",
   "outputs": [
    {
     "name": "stdout",
     "output_type": "stream",
     "text": [
      "{'Amine': 15.5, 'Yassine': 19.0, 'Reda': 14.2, 'Manal': 20.0, 'Saad': 11.3}\n",
      "{'Malak': 8.7, 'Ahmed': 7.5, 'Hannae': 9.8}\n"
     ]
    }
   ],
   "execution_count": 14
  },
  {
   "metadata": {},
   "cell_type": "markdown",
   "source": [
    "Challenge 2 : Mise à Jour de Dictionnaires\n",
    "Objectif : Fusionner plusieurs dictionnaires en un seul.\n",
    "\n",
    "Travail à faire:\n",
    "\n",
    "Utilisez update() pour fusionner trois dictionnaires différents.\n",
    "Affichez le dictionnaire final avec toutes les clés et valeurs combinées."
   ],
   "id": "1ada3f1177fd01ef"
  },
  {
   "metadata": {
    "ExecuteTime": {
     "end_time": "2025-09-17T11:12:19.742744Z",
     "start_time": "2025-09-17T11:12:19.740007Z"
    }
   },
   "cell_type": "code",
   "source": [
    "etudiantAdmis =  {'Amine': 15.5, 'Yassine': 19.0, 'Reda': 14.2, 'Manal': 20.0, 'Saad': 11.3}\n",
    "etudiantNonAdmis = {'Malak': 8.7, 'Ahmed': 7.5, 'Hannae': 9.8}\n",
    "etudiantAdmis.update(etudiantNonAdmis)\n",
    "print(etudiantAdmis)"
   ],
   "id": "b4bafcd2cc32bfcb",
   "outputs": [
    {
     "name": "stdout",
     "output_type": "stream",
     "text": [
      "{'Amine': 15.5, 'Yassine': 19.0, 'Reda': 14.2, 'Manal': 20.0, 'Saad': 11.3, 'Malak': 8.7, 'Ahmed': 7.5, 'Hannae': 9.8}\n"
     ]
    }
   ],
   "execution_count": 16
  },
  {
   "metadata": {},
   "cell_type": "markdown",
   "source": [
    "\n",
    "Challenge 3 : Conversion de Deux Listes en Dictionnaire\n",
    "Objectif : Créer un dictionnaire à partir de deux listes (une pour les clés, une pour les valeurs).\n",
    "\n",
    "Travail à faire:\n",
    "\n",
    "Utilisez zip() pour combiner les deux listes.\n",
    "Convertissez le résultat en dictionnaire.\n",
    "Affichez le dictionnaire créé."
   ],
   "id": "ef92c062e2ef224a"
  },
  {
   "metadata": {
    "ExecuteTime": {
     "end_time": "2025-09-17T13:35:13.137258Z",
     "start_time": "2025-09-17T13:35:13.134099Z"
    }
   },
   "cell_type": "code",
   "source": [
    "keys =  ['Amine', 'Yassine', 'Reda', 'Manal', 'Saad']\n",
    "values  = [8.7,  7.5,  9.8]\n",
    "\n",
    "new_list  = dict(zip(keys,values))\n",
    "print(new_list)\n",
    "\n"
   ],
   "id": "3dbea394640da861",
   "outputs": [
    {
     "name": "stdout",
     "output_type": "stream",
     "text": [
      "{'Amine': 8.7, 'Yassine': 7.5, 'Reda': 9.8}\n"
     ]
    }
   ],
   "execution_count": 56
  },
  {
   "metadata": {},
   "cell_type": "markdown",
   "source": [
    "Challenge 4 : Tri d'un Dictionnaire\n",
    "Objectif : Trier un dictionnaire selon ses valeurs.\n",
    "\n",
    "Travail à faire:\n",
    "\n",
    "Utilisez items() pour obtenir les paires clé-valeur.\n",
    "Triez ces paires par valeur.\n",
    "Créez un nouveau dictionnaire à partir des paires triées."
   ],
   "id": "34c320b27f0921ba"
  },
  {
   "metadata": {
    "ExecuteTime": {
     "end_time": "2025-09-17T15:26:28.354423Z",
     "start_time": "2025-09-17T15:26:28.346401Z"
    }
   },
   "cell_type": "code",
   "source": [
    "keys =  ['Amine', 'Yassine', 'Reda', 'Manal', 'Saad']\n",
    "values  = [8.7,  7.5,  9.8,  8,  18]\n",
    "\n",
    "new_list  = dict(zip(keys,values))\n",
    "mylist = list(new_list.items())\n",
    "sorted_list = []\n",
    "index = 0\n",
    "j = 0\n",
    "for j in range (0,len(mylist))  :\n",
    "\n",
    "    for i in range (j+1,len(mylist) - 1 ):\n",
    "        if mylist[j][1] > mylist[i][1] :\n",
    "            tmp = mylist[i]\n",
    "            mylist[i] = mylist[j]\n",
    "            mylist[j] = tmp\n",
    "\n",
    "print(mylist)\n",
    "sorted_list = mylist\n",
    "# for j in range (0,len(mylist)- 1)  :\n",
    "#     for i in range (0,len(mylist) - 1 ):\n",
    "#         print(mylist[i])\n",
    "#         if mylist[i][1] >= m and mylist[i] not in sorted_list:\n",
    "#           m =  mylist[i][1]\n",
    "#           index = i\n",
    "#\n",
    "#     sorted_list.append(mylist[index])\n",
    "\n",
    "print(\" sorted list : \", sorted_list)\n",
    "\n"
   ],
   "id": "e2375e2a7eedccc6",
   "outputs": [
    {
     "name": "stdout",
     "output_type": "stream",
     "text": [
      "[('Yassine', 7.5), ('Manal', 8), ('Amine', 8.7), ('Reda', 9.8), ('Saad', 18)]\n",
      " sorted list :  [('Yassine', 7.5), ('Manal', 8), ('Amine', 8.7), ('Reda', 9.8), ('Saad', 18)]\n"
     ]
    }
   ],
   "execution_count": 37
  },
  {
   "metadata": {},
   "cell_type": "markdown",
   "source": [
    "Challenge 5 : Manipulation de tuples\n",
    "Objectif : Comprendre la structure des tuples, leur immutabilité, et leur utilisation pour stocker des données groupées et ordonnées.\n",
    "\n",
    "Travail à faire:\n",
    "\n",
    "Crée un tuple nommé etudiant_info contenant les informations suivantes dans cet ordre : Prénom : \"Yasmine\", Âge : 22, Filière : \"Informatique\", Moyenne générale : 17.4\n",
    "Affiche les informations stockées dans le tuple, une par ligne, avec un texte explicite. (ex: “Prénom : Yasmine”)\n",
    "Tente de modifier la filière dans le tuple. Que se passe-t-il ? Explique pourquoi.\n",
    "Utilise l'opérateur de slicing pour afficher uniquement le prénom et l'âge.\n",
    "\n",
    "Crée un nouveau tuple en combinant etudiant_info avec un second tuple contenant la mention \"Très Bien\" et l’année d’obtention du diplôme (2024), puis affiche le tuple final."
   ],
   "id": "2badc97aca33b17a"
  },
  {
   "metadata": {
    "ExecuteTime": {
     "end_time": "2025-09-17T15:57:28.985255Z",
     "start_time": "2025-09-17T15:57:28.975616Z"
    }
   },
   "cell_type": "code",
   "source": [
    "etudiant_info = ((\"Prénom\" , \"Yasmine\"), (\"Âge\" , 22),( \"Filière\" , \"Informatique\"),(\"Moyenne generale\" , 17.4))\n",
    "first = 1\n",
    "for Bigtuples in etudiant_info :\n",
    "    for miniTuple in Bigtuples:\n",
    "        if first == 1 :\n",
    "                    print(miniTuple ,\": \" , end = \"\")\n",
    "                    first = 0\n",
    "        else :\n",
    "            first = 1\n",
    "            print(miniTuple)\n",
    "\n",
    "\n",
    "\n",
    "print(\"\\n\\n\\n\\n\",\"Utilise l'opérateur de slicing pour afficher uniquement le prénom et l'âge    : \",etudiant_info[0:2])  # Output: [1, 2, 3]\n",
    "\n",
    "\n",
    "second_tuple = ((\"Montion\" , \"Tres bien\"), (\"Annee de l'obtention \" , 2024))\n",
    "\n",
    "final_tuple = etudiant_info + second_tuple\n",
    "print(final_tuple)"
   ],
   "id": "422215f481aaedeb",
   "outputs": [
    {
     "name": "stdout",
     "output_type": "stream",
     "text": [
      "Prénom : Yasmine\n",
      "Âge : 22\n",
      "Filière : Informatique\n",
      "Moyenne generale : 17.4\n",
      "\n",
      "\n",
      "\n",
      "\n",
      " Utilise l'opérateur de slicing pour afficher uniquement le prénom et l'âge    :  (('Prénom', 'Yasmine'), ('Âge', 22))\n",
      "(('Prénom', 'Yasmine'), ('Âge', 22), ('Filière', 'Informatique'), ('Moyenne generale', 17.4), ('Montion', 'Tres bien'), (\"Annee de l'obtention \", 2024))\n"
     ]
    }
   ],
   "execution_count": 70
  }
 ],
 "metadata": {
  "kernelspec": {
   "display_name": "Python 3",
   "language": "python",
   "name": "python3"
  },
  "language_info": {
   "codemirror_mode": {
    "name": "ipython",
    "version": 2
   },
   "file_extension": ".py",
   "mimetype": "text/x-python",
   "name": "python",
   "nbconvert_exporter": "python",
   "pygments_lexer": "ipython2",
   "version": "2.7.6"
  }
 },
 "nbformat": 4,
 "nbformat_minor": 5
}
