{
 "cells": [
  {
   "cell_type": "markdown",
   "id": "ed27035d",
   "metadata": {},
   "source": [
    "\n",
    "<center>\n",
    "<H1><span style=\"text-align: center; font-weight: bold; color: #746bb3ff;\">Challenges avancés sur les dics et tuples</span></H1>\n",
    "</center>"
   ]
  },
  {
   "cell_type": "markdown",
   "id": "d37d1b79",
   "metadata": {},
   "source": [
    "### **Conseils pour résoudre les challenges :**\n",
    "- Testez avec des cas limites : dictionnaires vides, tuples vides, clés absentes, ou structures imbriquées complexes.\n",
    "- Utilisez `get()` ou `setdefault()` pour gérer les accès sécurisés aux dictionnaires.\n",
    "- Pour les tuples, rappelez-vous qu'ils sont immuables, donc toute transformation nécessite de créer de nouveaux tuples.\n",
    "- Assurez-vous que vos fonctions sont robustes face aux erreurs (par exemple, vérifier les types des entrées).\n"
   ]
  },
  {
   "cell_type": "markdown",
   "id": "28323bec",
   "metadata": {},
   "source": [
    "### **Challenge 1 : Fusion de dictionnaires avec mise à jour personnalisée**\n",
    "**Objectif** : Fusionner deux dictionnaires en appliquant une règle personnalisée pour gérer les clés communes.\n",
    "\n",
    "**Travail à faire** :  \n",
    "* Écrivez une fonction `fusionner_dictionnaires` qui prend deux dictionnaires et une fonction de fusion (par exemple, `lambda x, y: x + y` pour additionner les valeurs des clés communes). \n",
    " * La fonction doit retourner un nouveau dictionnaire contenant toutes les clés des deux dictionnaires, avec les valeurs des clés communes combinées via la fonction de fusion. \n",
    " * Testez avec deux dictionnaires et deux fonctions de fusion différentes (par exemple, addition et maximum).  \n",
    "* Exemple d'entrée : `dict1 = {'a': 1, 'b': 2}`, `dict2 = {'b': 3, 'c': 4}`, fonction `lambda x, y: x + y` → Résultat : `{'a': 1, 'b': 5, 'c': 4}`.\n",
    "\n",
    "**Fonctions à utiliser** :  \n",
    "- `items()` : Pour itérer sur les paires clé-valeur des dictionnaires.  \n",
    "- `setdefault()` : Pour gérer les clés absentes dans un dictionnaire.  \n",
    "- `update()` : Pour ajouter des paires clé-valeur au dictionnaire résultat."
   ]
  },
  {
   "metadata": {},
   "cell_type": "markdown",
   "source": "2 BOUCLES",
   "id": "a17893b21c194ccb"
  },
  {
   "metadata": {
    "ExecuteTime": {
     "end_time": "2025-09-19T21:59:17.737237Z",
     "start_time": "2025-09-19T21:59:17.728578Z"
    }
   },
   "cell_type": "code",
   "source": [
    "def fusionner_dictionnaires(dict1 : dict,dict2 : dict ):\n",
    "    f = lambda x,y : x+y\n",
    "    result = {}\n",
    "\n",
    "    for x , y in dict1.items() :\n",
    "        for x1 , y1 in dict2.items():\n",
    "            if x == x1 :\n",
    "                y = f(y,y1)\n",
    "            else :\n",
    "                result.setdefault(x1,y1)\n",
    "        result.update({x: y})\n",
    "    return result\n",
    "fusionner_dictionnaires({'b': 3, 'c': 4},{'a': 1, 'b': 2})"
   ],
   "id": "ef75769b1c715afb",
   "outputs": [
    {
     "data": {
      "text/plain": [
       "{'a': 1, 'b': 5, 'c': 4}"
      ]
     },
     "execution_count": 5,
     "metadata": {},
     "output_type": "execute_result"
    }
   ],
   "execution_count": 5
  },
  {
   "metadata": {
    "ExecuteTime": {
     "end_time": "2025-09-19T21:59:14.127691Z",
     "start_time": "2025-09-19T21:59:14.115838Z"
    }
   },
   "cell_type": "code",
   "source": [
    "def fusionner_dictionnaires(dict1 : dict,dict2 : dict ):\n",
    "    result = {}\n",
    "    result.update(dict1)\n",
    "    for x , y in dict2.items():\n",
    "\n",
    "        if x in dict1.keys() :\n",
    "            f = lambda x,y : x+y\n",
    "            print(f(y , dict1[x]))\n",
    "            result.update({x : f(y , dict1[x])})\n",
    "            # result.setdefault(x,f( y , dict1[x]))\n",
    "        result.setdefault(x,y)\n",
    "\n",
    "    return result\n",
    "fusionner_dictionnaires({'b': 3, 'c': 4},{'a': 1, 'b': 2})"
   ],
   "id": "f21a4830671c8a84",
   "outputs": [
    {
     "name": "stdout",
     "output_type": "stream",
     "text": [
      "5\n"
     ]
    },
    {
     "data": {
      "text/plain": [
       "{'b': 5, 'c': 4, 'a': 1}"
      ]
     },
     "execution_count": 4,
     "metadata": {},
     "output_type": "execute_result"
    }
   ],
   "execution_count": 4
  },
  {
   "cell_type": "markdown",
   "id": "bf45ff06",
   "metadata": {},
   "source": [
    "### **Challenge 2 : Filtrage de dictionnaire par valeurs**\n",
    "**Objectif** : Filtrer un dictionnaire selon un critère appliqué à ses valeurs.\n",
    "\n",
    "**Travail à faire** :  \n",
    "* Écrivez une fonction `filtrer_dictionnaire` qui prend un dictionnaire et une fonction de critère (par exemple, `lambda x: x > 10` pour garder les valeurs supérieures à 10). \n",
    "* La fonction doit retourner un nouveau dictionnaire contenant uniquement les paires clé-valeur où la valeur satisfait le critère. Testez avec deux critères différents (par exemple, \"valeur > 10\" et \"valeur est paire\").  \n",
    "* Exemple d'entrée : `{'a': 5, 'b': 12, 'c': 8, 'd': 15}` avec critère `lambda x: x > 10` → Résultat : `{'b': 12, 'd': 15}`.\n",
    "\n",
    "**Fonctions à utiliser** :  \n",
    "- `items()` : Pour itérer sur les paires clé-valeur.  \n",
    "- `filter()` : Pour appliquer le critère aux valeurs.  \n",
    "- `dict()` : Pour construire le dictionnaire résultat à partir des paires filtrées.  \n"
   ]
  },
  {
   "metadata": {
    "ExecuteTime": {
     "end_time": "2025-09-19T15:21:38.282284Z",
     "start_time": "2025-09-19T15:21:38.273654Z"
    }
   },
   "cell_type": "code",
   "source": [
    "def filtrer_dictionnaire(dict1) :\n",
    "    return dict(filter(lambda x : x[1] > 10 ,list(dict1.items())))\n",
    "filtrer_dictionnaire({'a': 5, 'b': 12, 'c': 8, 'd': 15})\n"
   ],
   "id": "ed4e1efbd798ed17",
   "outputs": [
    {
     "name": "stdout",
     "output_type": "stream",
     "text": [
      "[('a', 5), ('b', 12), ('c', 8), ('d', 15)]\n"
     ]
    },
    {
     "data": {
      "text/plain": [
       "{'b': 12, 'd': 15}"
      ]
     },
     "execution_count": 52,
     "metadata": {},
     "output_type": "execute_result"
    }
   ],
   "execution_count": 52
  },
  {
   "cell_type": "markdown",
   "id": "013db6ff",
   "metadata": {},
   "source": [
    "### **Challenge 3 : Création de tuples à partir de dictionnaires**\n",
    "**Objectif** : Convertir un dictionnaire en une liste de tuples triés selon un critère.\n",
    "\n",
    "**Travail à faire** :  \n",
    "* Écrivez une fonction `dictionnaire_vers_tuples` qui prend un dictionnaire et une fonction de tri (par exemple, `lambda x: x[1]` pour trier par valeur). \n",
    "* La fonction doit retourner une liste de tuples (clé, valeur) triée selon la fonction de tri. Testez avec deux critères de tri (par exemple, tri par clé et tri par valeur).  \n",
    "* Exemple d'entrée : `{'a': 10, 'b': 5, 'c': 15}` avec tri par valeur → Résultat : `[('b', 5), ('a', 10), ('c', 15)]`.\n",
    "\n",
    "**Fonctions à utiliser** :  \n",
    "- `items()` : Pour obtenir les paires clé-valeur sous forme de tuples.  \n",
    "- `sorted()` : Pour trier les tuples selon le critère.  \n",
    "- `list()` : Pour convertir en liste si nécessaire.  \n"
   ]
  },
  {
   "metadata": {
    "ExecuteTime": {
     "end_time": "2025-09-19T21:58:45.996290Z",
     "start_time": "2025-09-19T21:58:45.985611Z"
    }
   },
   "cell_type": "code",
   "source": [
    "def dictionnaire_vers_tuples(dict1):\n",
    "    return sorted(list(dict1.items()), key=lambda x: x[1])\n",
    "dictionnaire_vers_tuples({'a': 10, 'b': 5, 'c': 15})\n"
   ],
   "id": "33ddc3f819dc6077",
   "outputs": [
    {
     "data": {
      "text/plain": [
       "[('b', 5), ('a', 10), ('c', 15)]"
      ]
     },
     "execution_count": 3,
     "metadata": {},
     "output_type": "execute_result"
    }
   ],
   "execution_count": 3
  },
  {
   "cell_type": "markdown",
   "id": "eebca455",
   "metadata": {},
   "source": [
    "### **Challenge 4 : Regroupement par clé dans un dictionnaire**\n",
    "**Objectif** : Regrouper des tuples dans un dictionnaire selon leur première valeur.\n",
    "\n",
    "**Travail à faire** :  \n",
    "* Écrivez une fonction `regrouper_tuples` qui prend une liste de tuples (chaque tuple ayant au moins deux éléments : une clé et une valeur) et regroupe les valeurs associées à chaque clé dans un dictionnaire.\n",
    "* La fonction doit retourner un dictionnaire où chaque clé est la première valeur du tuple, et la valeur est une liste des secondes valeurs correspondantes. Testez avec une liste de tuples contenant des doublons de clés.  \n",
    "* Exemple d'entrée : `[('a', 1), ('b', 2), ('a', 3), ('c', 4)]` → Résultat : `{'a': [1, 3], 'b': [2], 'c': [4]}`.\n",
    "\n",
    "**Fonctions à utiliser** :  \n",
    "- `setdefault()` : Pour initialiser une liste vide pour chaque clé.  \n",
    "- `append()` : Pour ajouter les valeurs à la liste associée à une clé.  \n"
   ]
  },
  {
   "metadata": {
    "ExecuteTime": {
     "end_time": "2025-09-19T21:58:21.127949Z",
     "start_time": "2025-09-19T21:58:21.113226Z"
    }
   },
   "cell_type": "code",
   "source": [
    "def regrouper_tuples(liste):\n",
    "    dict1 = {}\n",
    "    for i in liste :\n",
    "        if i[0] in dict1.keys():\n",
    "            dict1[i[0]].append(i[1])\n",
    "        dict1.setdefault(i[0], [i[1]])\n",
    "    return  (dict1)\n",
    "regrouper_tuples([('a', 1), ('b', 2), ('a', 3), ('c', 4)])"
   ],
   "id": "3b33f968b0d2e1cc",
   "outputs": [
    {
     "data": {
      "text/plain": [
       "{'a': [1, 3], 'b': [2], 'c': [4]}"
      ]
     },
     "execution_count": 1,
     "metadata": {},
     "output_type": "execute_result"
    }
   ],
   "execution_count": 1
  },
  {
   "cell_type": "markdown",
   "id": "006c74b5",
   "metadata": {},
   "source": [
    "### **Challenge 5 : Transformation de tuples avec fonction**\n",
    "**Objectif** : Appliquer une transformation à tous les éléments numériques d'une liste de tuples.\n",
    "\n",
    "**Travail à faire** :  \n",
    "* Écrivez une fonction `transformer_tuples` qui prend une liste de tuples contenant des nombres et une fonction de transformation (par exemple, `lambda x: x * 2`). \n",
    "* La fonction doit appliquer la transformation à chaque nombre dans les tuples et retourner une nouvelle liste de tuples.  \n",
    "* Testez avec deux fonctions de transformation différentes (par exemple, doubler et ajouter 1).  \n",
    "* Exemple d'entrée : `[(1, 2), (3, 4)]` avec `lambda x: x * 2` → Résultat : `[(2, 4), (6, 8)]`.\n",
    "\n",
    "**Fonctions à utiliser** :  \n",
    "- `map()` : Pour appliquer la transformation à chaque élément du tuple.  \n",
    "- `tuple()` : Pour convertir les résultats de `map` en tuples.  \n",
    "- `list()` : Pour construire la liste finale de tuples.  \n"
   ]
  },
  {
   "metadata": {
    "ExecuteTime": {
     "end_time": "2025-09-19T22:20:12.402625Z",
     "start_time": "2025-09-19T22:20:12.391802Z"
    }
   },
   "cell_type": "code",
   "source": [
    "def transformer_tuples(list1) :\n",
    "    list3= []\n",
    "    for i in list1 :\n",
    "         list2  =  (tuple(map(lambda  x : x * 2 ,i )))\n",
    "         list3.append(list2)\n",
    "\n",
    "\n",
    "    return list(list3)\n",
    "transformer_tuples([(1,2) , (4,6)])"
   ],
   "id": "eef8ee630b066c4f",
   "outputs": [
    {
     "data": {
      "text/plain": [
       "[(2, 4), (8, 12)]"
      ]
     },
     "execution_count": 42,
     "metadata": {},
     "output_type": "execute_result"
    }
   ],
   "execution_count": 42
  },
  {
   "cell_type": "markdown",
   "id": "6c9aa7f3",
   "metadata": {},
   "source": [
    "### **Challenge 6 : Dictionnaire imbriqué à plat**\n",
    "**Objectif** : Convertir un dictionnaire imbriqué en une liste de tuples avec des clés concaténées.\n",
    "\n",
    "**Travail à faire** :  \n",
    "Écrivez une fonction `aplatir_dictionnaire` qui prend un dictionnaire potentiellement imbriqué et retourne une liste de tuples où chaque tuple contient une clé concaténée (séparée par des points) et la valeur correspondante. Testez avec un dictionnaire ayant au moins deux niveaux d'imbrication.  \n",
    "Exemple d'entrée : `{'a': 1, 'b': {'c': 2, 'd': 3}}` → Résultat : `[('a', 1), ('b.c', 2), ('b.d', 3)]`.\n",
    "\n",
    "**Fonctions à utiliser** :  \n",
    "- `items()` : Pour itérer sur les paires clé-valeur.  \n",
    "- `isinstance()` : Pour vérifier si une valeur est un dictionnaire (pour la récursivité).  \n",
    "- `append()` : Pour construire la liste de tuples.  \n"
   ]
  },
  {
   "metadata": {
    "ExecuteTime": {
     "end_time": "2025-09-24T10:57:11.719972Z",
     "start_time": "2025-09-24T10:57:11.296421Z"
    }
   },
   "cell_type": "code",
   "source": [
    "def aplatir_dictionnaire(listtt , j=''):\n",
    "\n",
    "    for x in listtt.items() :\n",
    "\n",
    "        if isinstance(x[1],dict)  :\n",
    "            print(x[1])\n",
    "            y = x[0]\n",
    "            aplatir_dictionnaire(x[1] , y )\n",
    "        else :\n",
    "            print(x)\n",
    "            if j == \"\" :\n",
    "                list.append((f\"{x[0]}\" , x[1]))\n",
    "            list.append((f\"{j}.{x[0]}\" , x[1]))\n",
    "\n",
    "    return list\n",
    "aplatir_dictionnaire({'a': 1, 'b': {'c': 2, 'd': 3}})"
   ],
   "id": "6d186a2c",
   "outputs": [
    {
     "name": "stdout",
     "output_type": "stream",
     "text": [
      "('a', 1)\n"
     ]
    },
    {
     "ename": "TypeError",
     "evalue": "descriptor 'append' for 'list' objects doesn't apply to a 'tuple' object",
     "output_type": "error",
     "traceback": [
      "\u001B[31m---------------------------------------------------------------------------\u001B[39m",
      "\u001B[31mTypeError\u001B[39m                                 Traceback (most recent call last)",
      "\u001B[36mCell\u001B[39m\u001B[36m \u001B[39m\u001B[32mIn[1]\u001B[39m\u001B[32m, line 16\u001B[39m\n\u001B[32m     13\u001B[39m             \u001B[38;5;28mlist\u001B[39m.append((\u001B[33mf\u001B[39m\u001B[33m\"\u001B[39m\u001B[38;5;132;01m{\u001B[39;00mj\u001B[38;5;132;01m}\u001B[39;00m\u001B[33m.\u001B[39m\u001B[38;5;132;01m{\u001B[39;00mx[\u001B[32m0\u001B[39m]\u001B[38;5;132;01m}\u001B[39;00m\u001B[33m\"\u001B[39m , x[\u001B[32m1\u001B[39m]))\n\u001B[32m     15\u001B[39m     \u001B[38;5;28;01mreturn\u001B[39;00m \u001B[38;5;28mlist\u001B[39m\n\u001B[32m---> \u001B[39m\u001B[32m16\u001B[39m \u001B[43maplatir_dictionnaire\u001B[49m\u001B[43m(\u001B[49m\u001B[43m{\u001B[49m\u001B[33;43m'\u001B[39;49m\u001B[33;43ma\u001B[39;49m\u001B[33;43m'\u001B[39;49m\u001B[43m:\u001B[49m\u001B[43m \u001B[49m\u001B[32;43m1\u001B[39;49m\u001B[43m,\u001B[49m\u001B[43m \u001B[49m\u001B[33;43m'\u001B[39;49m\u001B[33;43mb\u001B[39;49m\u001B[33;43m'\u001B[39;49m\u001B[43m:\u001B[49m\u001B[43m \u001B[49m\u001B[43m{\u001B[49m\u001B[33;43m'\u001B[39;49m\u001B[33;43mc\u001B[39;49m\u001B[33;43m'\u001B[39;49m\u001B[43m:\u001B[49m\u001B[43m \u001B[49m\u001B[32;43m2\u001B[39;49m\u001B[43m,\u001B[49m\u001B[43m \u001B[49m\u001B[33;43m'\u001B[39;49m\u001B[33;43md\u001B[39;49m\u001B[33;43m'\u001B[39;49m\u001B[43m:\u001B[49m\u001B[43m \u001B[49m\u001B[32;43m3\u001B[39;49m\u001B[43m}\u001B[49m\u001B[43m}\u001B[49m\u001B[43m)\u001B[49m\n",
      "\u001B[36mCell\u001B[39m\u001B[36m \u001B[39m\u001B[32mIn[1]\u001B[39m\u001B[32m, line 12\u001B[39m, in \u001B[36maplatir_dictionnaire\u001B[39m\u001B[34m(listtt, j)\u001B[39m\n\u001B[32m     10\u001B[39m         \u001B[38;5;28mprint\u001B[39m(x)\n\u001B[32m     11\u001B[39m         \u001B[38;5;28;01mif\u001B[39;00m j == \u001B[33m\"\u001B[39m\u001B[33m\"\u001B[39m :\n\u001B[32m---> \u001B[39m\u001B[32m12\u001B[39m             \u001B[38;5;28;43mlist\u001B[39;49m\u001B[43m.\u001B[49m\u001B[43mappend\u001B[49m\u001B[43m(\u001B[49m\u001B[43m(\u001B[49m\u001B[33;43mf\u001B[39;49m\u001B[33;43m\"\u001B[39;49m\u001B[38;5;132;43;01m{\u001B[39;49;00m\u001B[43mx\u001B[49m\u001B[43m[\u001B[49m\u001B[32;43m0\u001B[39;49m\u001B[43m]\u001B[49m\u001B[38;5;132;43;01m}\u001B[39;49;00m\u001B[33;43m\"\u001B[39;49m\u001B[43m \u001B[49m\u001B[43m,\u001B[49m\u001B[43m \u001B[49m\u001B[43mx\u001B[49m\u001B[43m[\u001B[49m\u001B[32;43m1\u001B[39;49m\u001B[43m]\u001B[49m\u001B[43m)\u001B[49m\u001B[43m)\u001B[49m\n\u001B[32m     13\u001B[39m         \u001B[38;5;28mlist\u001B[39m.append((\u001B[33mf\u001B[39m\u001B[33m\"\u001B[39m\u001B[38;5;132;01m{\u001B[39;00mj\u001B[38;5;132;01m}\u001B[39;00m\u001B[33m.\u001B[39m\u001B[38;5;132;01m{\u001B[39;00mx[\u001B[32m0\u001B[39m]\u001B[38;5;132;01m}\u001B[39;00m\u001B[33m\"\u001B[39m , x[\u001B[32m1\u001B[39m]))\n\u001B[32m     15\u001B[39m \u001B[38;5;28;01mreturn\u001B[39;00m \u001B[38;5;28mlist\u001B[39m\n",
      "\u001B[31mTypeError\u001B[39m: descriptor 'append' for 'list' objects doesn't apply to a 'tuple' object"
     ]
    }
   ],
   "execution_count": 1
  },
  {
   "cell_type": "code",
   "execution_count": null,
   "id": "081818d8",
   "metadata": {},
   "outputs": [],
   "source": []
  },
  {
   "metadata": {
    "ExecuteTime": {
     "end_time": "2025-09-24T10:57:15.677665Z",
     "start_time": "2025-09-24T10:57:15.660334Z"
    }
   },
   "cell_type": "code",
   "source": [
    "def aplatir_dictionnaire(listtt , j=''):\n",
    "\n",
    "    for x in listtt.items() :\n",
    "\n",
    "        if isinstance(x[1],dict)  :\n",
    "            print(x[1])\n",
    "            y = x[0]\n",
    "            aplatir_dictionnaire(x[1] , y )\n",
    "        else :\n",
    "            print(x)\n",
    "            if j == \"\" :\n",
    "                list.append((f\"{x[0]}\" , x[1]))\n",
    "            else : list.append((f\"{j}.{x[0]}\" , x[1]))\n",
    "\n",
    "    return list\n",
    "list = []\n",
    "aplatir_dictionnaire({'a': 1, 'b': {'c': 2, 'd': 3}})"
   ],
   "id": "ec131212fca38715",
   "outputs": [
    {
     "name": "stdout",
     "output_type": "stream",
     "text": [
      "('a', 1)\n",
      "{'c': 2, 'd': 3}\n",
      "('c', 2)\n",
      "('d', 3)\n"
     ]
    },
    {
     "data": {
      "text/plain": [
       "[('a', 1), ('b.c', 2), ('b.d', 3)]"
      ]
     },
     "execution_count": 2,
     "metadata": {},
     "output_type": "execute_result"
    }
   ],
   "execution_count": 2
  }
 ],
 "metadata": {
  "kernelspec": {
   "display_name": "Python 3",
   "language": "python",
   "name": "python3"
  },
  "language_info": {
   "codemirror_mode": {
    "name": "ipython",
    "version": 3
   },
   "file_extension": ".py",
   "mimetype": "text/x-python",
   "name": "python",
   "nbconvert_exporter": "python",
   "pygments_lexer": "ipython3",
   "version": "3.13.5"
  }
 },
 "nbformat": 4,
 "nbformat_minor": 5
}
