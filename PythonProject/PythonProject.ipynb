{
 "cells": [
  {
   "cell_type": "code",
   "id": "initial_id",
   "metadata": {
    "collapsed": true,
    "ExecuteTime": {
     "end_time": "2025-09-16T11:03:26.921467Z",
     "start_time": "2025-09-16T11:03:26.918337Z"
    }
   },
   "source": [
    "def calculation(num1,num2):\n",
    "    print(num1+num2)\n",
    "    print(num1-num2)\n",
    "\n",
    "calculation(12,2)"
   ],
   "outputs": [
    {
     "name": "stdout",
     "output_type": "stream",
     "text": [
      "14\n",
      "10\n"
     ]
    }
   ],
   "execution_count": 1
  },
  {
   "metadata": {
    "ExecuteTime": {
     "end_time": "2025-09-16T11:12:50.340214Z",
     "start_time": "2025-09-16T11:12:46.816845Z"
    }
   },
   "cell_type": "code",
   "source": [
    "i = 1\n",
    "s = 1\n",
    "def facto(n):\n",
    "    global s\n",
    "    global i\n",
    "    while i <=n :\n",
    "        s *= i\n",
    "        i+=1\n",
    "    print(s)\n",
    "p = int(input(\"number\"))\n",
    "facto(p)"
   ],
   "id": "b50bc9d523802ae",
   "outputs": [
    {
     "name": "stdout",
     "output_type": "stream",
     "text": [
      "6\n"
     ]
    }
   ],
   "execution_count": 3
  },
  {
   "metadata": {},
   "cell_type": "markdown",
   "source": "MULTIPLICATION",
   "id": "6480a10b8b373513"
  },
  {
   "metadata": {
    "ExecuteTime": {
     "end_time": "2025-09-16T11:18:01.939007Z",
     "start_time": "2025-09-16T11:18:01.936011Z"
    }
   },
   "cell_type": "code",
   "outputs": [
    {
     "name": "stdout",
     "output_type": "stream",
     "text": [
      "1 * 4  =  4\n",
      "2 * 4  =  8\n",
      "3 * 4  =  12\n",
      "4 * 4  =  16\n",
      "5 * 4  =  20\n",
      "6 * 4  =  24\n",
      "7 * 4  =  28\n",
      "8 * 4  =  32\n",
      "9 * 4  =  36\n"
     ]
    }
   ],
   "execution_count": 9,
   "source": [
    "def multiplication(p):\n",
    "    for i in range (1,10) :\n",
    "        print(i,\"*\",p,\" = \",i * p)\n",
    "\n",
    "multiplication(4)"
   ],
   "id": "799e66f3a469c76e"
  },
  {
   "metadata": {},
   "cell_type": "markdown",
   "source": "    Demander à l’utilisateur un nombre entier L et indiquer s’il s’agit d’un carré parfait",
   "id": "550ff9847c2c9a22"
  },
  {
   "metadata": {
    "ExecuteTime": {
     "end_time": "2025-09-16T13:08:36.989619Z",
     "start_time": "2025-09-16T13:08:36.979691Z"
    }
   },
   "cell_type": "code",
   "source": [
    "import math\n",
    "\n",
    "\n",
    "def perfectCube(N):\n",
    "    number = math.isqrt(N)\n",
    "    if(number**2 == N):\n",
    "        return 1\n",
    "    else :\n",
    "        return 0\n",
    "perfectCube(17)"
   ],
   "id": "77c50129cddf31c6",
   "outputs": [
    {
     "data": {
      "text/plain": [
       "0"
      ]
     },
     "execution_count": 23,
     "metadata": {},
     "output_type": "execute_result"
    }
   ],
   "execution_count": 23
  },
  {
   "metadata": {},
   "cell_type": "markdown",
   "source": "Demander une chaîne de caractères à l’utilisateur, puis afficher chaque caractère un par un.",
   "id": "b0febe3ba0cbe1a1"
  },
  {
   "metadata": {
    "ExecuteTime": {
     "end_time": "2025-09-16T13:12:09.326247Z",
     "start_time": "2025-09-16T13:12:09.318553Z"
    }
   },
   "cell_type": "code",
   "source": [
    "def DifStrings(string):\n",
    "    length =  len(string)\n",
    "    for i in range (0,length):\n",
    "        print(string[i])\n",
    "DifStrings(\"string\")"
   ],
   "id": "e4af49bbc1511dac",
   "outputs": [
    {
     "name": "stdout",
     "output_type": "stream",
     "text": [
      "s\n",
      "t\n",
      "r\n",
      "i\n",
      "n\n",
      "g\n"
     ]
    }
   ],
   "execution_count": 25
  },
  {
   "metadata": {},
   "cell_type": "markdown",
   "source": "Demander une phrase à l’utilisateur et afficher le mot le plus long de cette phrase.",
   "id": "87b7814b02bf08c"
  },
  {
   "metadata": {
    "ExecuteTime": {
     "end_time": "2025-09-16T13:56:31.987474Z",
     "start_time": "2025-09-16T13:56:26.219781Z"
    }
   },
   "cell_type": "code",
   "source": [
    "phrase = input(\"ecrire une phrese :\")\n",
    "strings = []\n",
    "n = 0\n",
    "\n",
    "for i in range(len(phrase)):\n",
    "    if phrase[i] != \" \":\n",
    "        if len(strings) <= n:\n",
    "            strings.append(\"\")\n",
    "        strings[n] += phrase[i]\n",
    "    else:\n",
    "        n += 1\n",
    "\n",
    "max = len(strings[0])\n",
    "index = 0\n",
    "for i in range (len(strings)) :\n",
    "    if max < len(strings[i]) :\n",
    "        max = len(strings[i])\n",
    "        index = i\n",
    "print(strings[index])"
   ],
   "id": "6770d09fa21a11b2",
   "outputs": [
    {
     "name": "stdout",
     "output_type": "stream",
     "text": [
      "fdfd\n"
     ]
    }
   ],
   "execution_count": 48
  },
  {
   "metadata": {},
   "cell_type": "markdown",
   "source": [
    "Demander une chaîne de caractères Ch et afficher le nombre d’occurrences de chaque caractère. Exemple : Pour Ch = “artificial intelligence developer”\n",
    "Le programme doit afficher : Le caractère \"i\" figure 5 fois dans la chaîne Ch."
   ],
   "id": "7500b56d1d437010"
  },
  {
   "metadata": {
    "ExecuteTime": {
     "end_time": "2025-09-16T14:26:34.881142Z",
     "start_time": "2025-09-16T14:26:30.549751Z"
    }
   },
   "cell_type": "code",
   "source": [
    "def CalOcc(string):\n",
    "    str = []\n",
    "    count  = []\n",
    "    j = 0\n",
    "    for i in range (len(string)):\n",
    "        if string[i] in str :\n",
    "            index = str.index(string[i])\n",
    "            count[index] += 1\n",
    "        else :\n",
    "            count.append(1)\n",
    "            str.append(string[i])\n",
    "    for i in  range (len(str)):\n",
    "        print(str[i] , count[i])\n",
    "strings  = input(\"phrase \")\n",
    "CalOcc(strings)\n",
    "\n"
   ],
   "id": "f244e17628610d57",
   "outputs": [
    {
     "name": "stdout",
     "output_type": "stream",
     "text": [
      "d 5\n",
      "f 4\n",
      "s 3\n",
      "  1\n",
      "c 1\n"
     ]
    }
   ],
   "execution_count": 60
  },
  {
   "metadata": {},
   "cell_type": "code",
   "outputs": [],
   "execution_count": null,
   "source": "",
   "id": "3367997ad935e989"
  }
 ],
 "metadata": {
  "kernelspec": {
   "display_name": "Python 3",
   "language": "python",
   "name": "python3"
  },
  "language_info": {
   "codemirror_mode": {
    "name": "ipython",
    "version": 2
   },
   "file_extension": ".py",
   "mimetype": "text/x-python",
   "name": "python",
   "nbconvert_exporter": "python",
   "pygments_lexer": "ipython2",
   "version": "2.7.6"
  }
 },
 "nbformat": 4,
 "nbformat_minor": 5
}
