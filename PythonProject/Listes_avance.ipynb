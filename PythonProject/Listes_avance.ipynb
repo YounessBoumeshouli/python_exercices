{
 "cells": [
  {
   "cell_type": "markdown",
   "id": "4b14e968",
   "metadata": {},
   "source": [
    "\n",
    "<center>\n",
    "<H1><span style=\"text-align: center; font-weight: bold; color: #746bb3ff;\">Challenges avancés sur les listes</span></H1>\n",
    "</center>"
   ]
  },
  {
   "cell_type": "markdown",
   "id": "6e737eb3",
   "metadata": {},
   "source": [
    "<H3><span style=\"font-weight: bold; color: #1a8bcdff;\">Challenge 1 :  Filtrage avancé avec fonctions</span></H3>\n",
    "\n",
    "1. <span style=\"font-weight: bold; color: #e56922ff;\">Objectif</span> : </br>\n",
    "Créer une fonction qui filtre une liste selon des critères dynamiques passés en paramètre.\n",
    "\n",
    "2. <span style=\"font-weight: bold; color: #e56922ff;\">Travail à faire</span>:</br>\n",
    "\n",
    "* Écrivez une fonction filtrer_liste qui prend en entrée une liste de nombres et une fonction de critère (fonction lambda ou définie). La fonction doit retourner une nouvelle liste contenant uniquement les éléments qui satisfont le critère. \n",
    "* Testez la fonction avec au moins deux critères différents (par exemple, \"plus grand que 10\" et \"multiple de 3\").\n",
    "* Exemple d'entrée :<code>[1, 12, 9, 15, 20, 3]</code>  avec critère <code>lambda x: x > 10</code> → Résultat : <code>[12, 15, 20]</code>.\n",
    "3. Fonctions à utiliser :\n",
    "\n",
    "* <code>filter()</code> : Pour appliquer le critère de filtrage sur la liste.\n",
    "* <code>list()</code> : Pour convertir le résultat de filter en liste."
   ]
  },
  {
   "cell_type": "code",
   "id": "515f5469",
   "metadata": {
    "ExecuteTime": {
     "end_time": "2025-09-18T22:17:30.494838Z",
     "start_time": "2025-09-18T22:17:30.484658Z"
    }
   },
   "source": [
    "\n",
    "def filter_list(l) :\n",
    "    return list(filter(lambda x: x > 10,l))\n",
    "filter_list([1, 12, 9, 15, 20, 3])"
   ],
   "outputs": [
    {
     "data": {
      "text/plain": [
       "[12, 15, 20]"
      ]
     },
     "execution_count": 1,
     "metadata": {},
     "output_type": "execute_result"
    }
   ],
   "execution_count": 1
  },
  {
   "metadata": {
    "ExecuteTime": {
     "end_time": "2025-09-19T08:02:38.332038Z",
     "start_time": "2025-09-19T08:02:38.326651Z"
    }
   },
   "cell_type": "code",
   "source": [
    "def filtrage(l) :\n",
    "    return [x for x in l if x > 10] ,list(filter(lambda x: x % 3 == 0, l))\n",
    "\n",
    "# filter_list([1, 12, 9, 15, 20, 3])\n",
    "\n",
    "filtrage([1, 12, 9, 15, 20, 3])\n"
   ],
   "id": "d80a692c5888fc95",
   "outputs": [
    {
     "data": {
      "text/plain": [
       "([12, 15, 20], [12, 9, 15, 3])"
      ]
     },
     "execution_count": 6,
     "metadata": {},
     "output_type": "execute_result"
    }
   ],
   "execution_count": 6
  },
  {
   "cell_type": "markdown",
   "id": "cb83ba8f",
   "metadata": {},
   "source": [
    "<H3><span style=\"font-weight: bold; color: #1a8bcdff;\">Challenge 2 : Transformation Avancée de Données</span></H3>\n",
    "\n",
    "1. <span style=\"font-weight: bold; color: #e56922ff;\">Objectif</span> : </br>\n",
    " Manipuler et transformer une liste de nombres en combinant plusieurs opérations fonctionnelles.\n",
    "\n",
    "\n",
    "2. <span style=\"font-weight: bold; color: #e56922ff;\">Travail à faire</span>:</br>\n",
    "\n",
    "* Créez une liste de nombres entiers (positifs et négatifs).\n",
    "\n",
    "* Utilisez filter() pour garder uniquement les nombres positifs.\n",
    "\n",
    "* Utilisez map() pour calculer le cube de chaque nombre filtré.\n",
    "\n",
    "* Utilisez sorted() pour trier la liste des cubes en ordre décroissant.\n",
    "\n",
    "* Affichez la liste finale des valeurs transformées."
   ]
  },
  {
   "cell_type": "code",
   "id": "68709f89",
   "metadata": {
    "ExecuteTime": {
     "end_time": "2025-09-19T08:14:33.726167Z",
     "start_time": "2025-09-19T08:14:33.720832Z"
    }
   },
   "source": [
    "#  Écrivez du code Python ici\n",
    "nmb = [12,-2,0,-333,10,2,22]\n",
    "nmbp = list(filter(lambda x:x>= 0 ,nmb))\n",
    "print(nmbp)\n",
    "nmbcube = [ x ** 2 for x in nmb]\n",
    "print(nmbcube)\n",
    "print(sorted(nmbcube))\n",
    "nmbcube = [x for x in nmb if x >=0]\n",
    "print(nmbcube)\n",
    "print(sorted(nmbcube))"
   ],
   "outputs": [
    {
     "name": "stdout",
     "output_type": "stream",
     "text": [
      "[12, 0, 10, 2, 22]\n",
      "[144, 4, 0, 110889, 100, 4, 484]\n",
      "[0, 4, 4, 100, 144, 484, 110889]\n",
      "[12, 0, 10, 2, 22]\n",
      "[0, 2, 10, 12, 22]\n"
     ]
    }
   ],
   "execution_count": 9
  },
  {
   "cell_type": "markdown",
   "id": "9348938f",
   "metadata": {},
   "source": [
    "<H3><span style=\"font-weight: bold; color: #1a8bcdff;\">Challenge 3 : Tri personnalisé avec clé dynamique\n",
    "</span></H3>\n",
    "\n",
    "1. <span style=\"font-weight: bold; color: #e56922ff;\">Objectif</span> : </br>\n",
    "Trier une liste d'objets complexes en utilisant une fonction de clé personnalisée.\n",
    "\n",
    "2. <span style=\"font-weight: bold; color: #e56922ff;\">Travail à faire</span>:</br>\n",
    "\n",
    "* Créez une liste de dictionnaires représentant des étudiants avec les clés nom (str) et note (int). \n",
    "* Écrivez une fonction trier_etudiants qui prend la liste et une fonction de clé (par exemple, lambda x: x['note'] pour trier par note). La fonction doit retourner la liste triée, avec une option pour tri croissant ou décroissant (via un paramètre reverse).  \n",
    "* Testez avec une liste d'au moins 5 étudiants et deux critères de tri.\n",
    "* Exemple d'entrée : <code>[{'nom': 'Alice', 'note': 85}, {'nom': 'Bob', 'note': 92}]</code> trié par note décroissante → Résultat : <code>[{'nom': 'Bob', 'note': 92}, {'nom': 'Alice', 'note': 85}]</code>.\n",
    "3. Fonctions à utiliser :\n",
    "* <code>sorted()</code> : Pour trier la liste avec une clé personnalisée.\n",
    "* <code>lambda</code> : Pour définir les fonctions de clé dynamiques."
   ]
  },
  {
   "cell_type": "code",
   "id": "341dbff4",
   "metadata": {
    "ExecuteTime": {
     "end_time": "2025-09-19T09:15:28.201813Z",
     "start_time": "2025-09-19T09:15:28.198352Z"
    }
   },
   "source": [
    "etds_dict =  [{'nom': 'Alice', 'note': 85}, {'nom': 'Bob', 'note': 92}]\n",
    "def trier_etudiant (L : list , typeTrie : bool) :\n",
    "     print(sorted(L, key =  lambda x:x['note'],reverse = typeTrie ))\n",
    "\n",
    "trier_etudiant(etds_dict,True)"
   ],
   "outputs": [
    {
     "name": "stdout",
     "output_type": "stream",
     "text": [
      "[{'nom': 'Bob', 'note': 92}, {'nom': 'Alice', 'note': 85}]\n"
     ]
    }
   ],
   "execution_count": 6
  },
  {
   "cell_type": "markdown",
   "id": "12a40e48",
   "metadata": {},
   "source": [
    "<H3><span style=\"font-weight: bold; color: #1a8bcdff;\">Challenge 4 : Fusion intelligente de listes</span></H3>\n",
    "\n",
    "1. <span style=\"font-weight: bold; color: #e56922ff;\">Objectif</span> : </br>\n",
    "Fusionner deux listes en éliminant les doublons et en respectant un ordre spécifique.\n",
    "2. <span style=\"font-weight: bold; color: #e56922ff;\">Travail à faire</span>:</br>\n",
    "\n",
    "* Écrivez une fonction fusionner_listes qui prend deux listes de nombres et une fonction de tri (par exemple, lambda x: x pour tri croissant). \n",
    "* La fonction doit fusionner les deux listes, supprimer les doublons, et retourner une liste triée selon la fonction de tri fournie. \n",
    "*  Testez avec deux listes contenant des doublons et deux fonctions de tri différentes.\n",
    "* Exemple d'entrée : <code>liste1 = [1, 3, 5, 3]</code>, <code>liste2 = [2, 3, 4, 5]</code>, tri croissant → Résultat : <code>[1, 2, 3, 4, 5]</code>.\n",
    "3. Fonctions à utiliser :\n",
    "\n",
    "* extend() : Pour ajouter les éléments d'une liste à une autre.\n",
    "* set() : Pour supprimer les doublons.\n",
    "* sorted() : Pour trier la liste fusionnée."
   ]
  },
  {
   "cell_type": "code",
   "id": "a8fb6e19",
   "metadata": {
    "ExecuteTime": {
     "end_time": "2025-09-19T09:25:35.263964Z",
     "start_time": "2025-09-19T09:25:35.259991Z"
    }
   },
   "source": [
    "liste1 = [1, 3, 5, 3]\n",
    "\n",
    "liste2 = [2, 3, 4, 5]\n",
    "\n",
    "liste1.extend(liste2)\n",
    "print(liste1)\n",
    "\n",
    "set(liste1)\n",
    "print(\"seted\",liste1)\n",
    "sorted_list = sorted(liste1,key =lambda x:x)\n",
    "print(\"sorted\",sorted_list)\n",
    "\n"
   ],
   "outputs": [
    {
     "name": "stdout",
     "output_type": "stream",
     "text": [
      "[1, 3, 5, 3, 2, 3, 4, 5]\n",
      "seted [1, 3, 5, 3, 2, 3, 4, 5]\n",
      "sorted [1, 2, 3, 3, 3, 4, 5, 5]\n"
     ]
    }
   ],
   "execution_count": 14
  },
  {
   "cell_type": "markdown",
   "id": "dd1e329d",
   "metadata": {},
   "source": [
    "<H3><span style=\"font-weight: bold; color: #1a8bcdff;\">Challenge 5 : Partitionnement de liste</span></H3>\n",
    "\n",
    "1. <span style=\"font-weight: bold; color: #e56922ff;\">Objectif</span> : </br>\n",
    "Diviser une liste en sous-listes selon un critère dynamique.\n",
    "2. <span style=\"font-weight: bold; color: #e56922ff;\">Travail à faire</span>:</br>\n",
    "\n",
    "* Écrivez une fonction partitionner_liste qui prend une liste et une fonction de critère (par exemple, lambda x: x % 2 == 0 pour séparer pairs et impairs). \n",
    "* La fonction doit retourner un tuple contenant deux listes : une pour les éléments qui satisfont le critère et une pour ceux qui ne le satisfont pas. \n",
    "* Testez avec deux critères différents (par exemple, \"pair/impair\" et \"positif/négatif\").\n",
    "* Exemple d'entrée : <code>[1, 2, 3, 4, 5, 6]</code> avec critère <code>ambda x: x % 2 == 0</code>l → Résultat : <code>([2, 4, 6], [1, 3, 5])</code>.\n",
    "3. Fonctions à utiliser :\n",
    "\n",
    "* <code>filter()</code> : Pour séparer les éléments selon le critère.\n",
    "* <code>list()</code> : Pour convertir les résultats de filter en listes.\n",
    "* <code>append()</code> : Pour construire les deux listes si vous utilisez une boucle."
   ]
  },
  {
   "cell_type": "code",
   "id": "843cd03c",
   "metadata": {
    "ExecuteTime": {
     "end_time": "2025-09-19T09:51:14.780700Z",
     "start_time": "2025-09-19T09:51:14.776843Z"
    }
   },
   "source": [
    "def partitionner_liste (L : list,key1):\n",
    "    sat = list(filter(key1,L))\n",
    "    Notsat = [x for x in L if x not in sat]\n",
    "\n",
    "    print(sat)\n",
    "    print(Notsat)\n",
    "partitionner_liste([1, 2, 3, 4, 5, 6],lambda x: x % 2 == 0)\n",
    "\n"
   ],
   "outputs": [
    {
     "name": "stdout",
     "output_type": "stream",
     "text": [
      "[2, 4, 6]\n",
      "[1, 3, 5]\n"
     ]
    }
   ],
   "execution_count": 15
  },
  {
   "cell_type": "markdown",
   "id": "24d606ac",
   "metadata": {},
   "source": [
    "<H3><span style=\"font-weight: bold; color: #1a8bcdff;\">Challenge 6 : Réduction avec accumulation personnalisée</span></H3>\n",
    "\n",
    "1. <span style=\"font-weight: bold; color: #e56922ff;\">Objectif</span> : </br>\n",
    "Appliquer une opération personnalisée pour réduire une liste à une seule valeur.\n",
    "\n",
    "2. <span style=\"font-weight: bold; color: #e56922ff;\">Travail à faire</span>:</br>\n",
    "\n",
    "* Écrivez une fonction reduire_liste qui prend une liste de nombres, une fonction d'opération (par exemple, lambda x, y: x + y pour une somme), et une valeur initiale. \n",
    "* La fonction doit appliquer l'opération sur les éléments pour produire une seule valeur, sans utiliser functools.reduce. \n",
    "* Testez avec deux opérations différentes (par exemple, somme et produit).\n",
    "* Exemple d'entrée : <code>[1, 2, 3, 4]</code> avec <code>lambda x, y: x + y</code> et valeur initiale 0 → Résultat : 10.\n",
    "3. Fonctions à utiliser :\n",
    "\n",
    "* <code>lambda</code> : Pour définir l'opération personnalisée.\n",
    "* Boucle avec accumulation (pas de fonction intégrée comme reduce, car interdit dans l'énoncé)."
   ]
  },
  {
   "cell_type": "code",
   "id": "9c0d3355",
   "metadata": {
    "ExecuteTime": {
     "end_time": "2025-09-19T10:31:56.033165Z",
     "start_time": "2025-09-19T10:31:56.028401Z"
    }
   },
   "source": [
    "def reduire_liste (liste : list , cr,inititale):\n",
    "    for x in liste :\n",
    "        inititale = cr(x,inititale)\n",
    "    print (inititale)\n",
    "cr = lambda x , y: x + y\n",
    "cr1 = lambda x , y: x * y\n",
    "reduire_liste ([1, 2, 3, 4] , cr,0)\n",
    "reduire_liste ([1, 2, 3, 4] , cr1,1)"
   ],
   "outputs": [
    {
     "name": "stdout",
     "output_type": "stream",
     "text": [
      "10\n",
      "24\n"
     ]
    }
   ],
   "execution_count": 28
  },
  {
   "cell_type": "markdown",
   "id": "7d7b7f8a",
   "metadata": {},
   "source": [
    "<H3><span style=\"font-weight: bold; color: #1a8bcdff;\">Challenge 7 : Transformation imbriquée</span></H3>\n",
    "\n",
    "1. <span style=\"font-weight: bold; color: #e56922ff;\">Objectif</span> : </br>\n",
    "Transformer une liste imbriquée avec une fonction récursive.\n",
    "\n",
    "2. <span style=\"font-weight: bold; color: #e56922ff;\">Travail à faire</span>:</br>\n",
    "\n",
    "* Écrivez une fonction transformer_imbriquee qui prend une liste potentiellement imbriquée (contenant des nombres ou des listes) et une fonction de transformation (par exemple, lambda x: x * 2 pour doubler chaque nombre). \n",
    "* La fonction doit appliquer la transformation à chaque nombre, en préservant la structure imbriquée. \n",
    "* Testez avec une liste contenant au moins deux niveaux d'imbrication et deux fonctions de transformation.\n",
    "* Exemple d'entrée : <code>[1, [2, 3, [4, 5]], 6]</code> avec <code>lambda x: x * 2 </code>→ Résultat : <code>[2, [4, 6, [8, 10]], 12]</code>.\n",
    "3. Fonctions à utiliser :\n",
    "\n",
    "<code>map()</code> : Pour appliquer la transformation aux éléments non imbriqués.\n",
    "<code>isinstance()</code> : Pour vérifier si un élément est une liste (pour la récursivité).\n",
    "<code>list()</code> : Pour convertir les résultats de map en listes."
   ]
  },
  {
   "metadata": {},
   "cell_type": "markdown",
   "source": "",
   "id": "a10b201c86fc1135"
  },
  {
   "cell_type": "code",
   "id": "0d08089b",
   "metadata": {
    "ExecuteTime": {
     "end_time": "2025-09-19T11:00:00.320349Z",
     "start_time": "2025-09-19T11:00:00.309019Z"
    }
   },
   "source": [
    "def transformer_imbriquee (Liste : list,cr):\n",
    "    for x in Liste :\n",
    "        if isinstance(x,list) :\n",
    "            transformer_imbriquee(x,cr)\n",
    "        else :\n",
    "            x  =  cr(x)\n",
    "            print(x)\n",
    "\n",
    "    return Liste\n",
    "cr = lambda x : x * 2\n",
    "\n",
    "transformer_imbriquee([1, [2, 3, [4, 5]], 6],cr)"
   ],
   "outputs": [
    {
     "name": "stdout",
     "output_type": "stream",
     "text": [
      "2\n",
      "4\n",
      "6\n",
      "8\n",
      "10\n",
      "12\n"
     ]
    },
    {
     "data": {
      "text/plain": [
       "[1, [2, 3, [4, 5]], 6]"
      ]
     },
     "execution_count": 49,
     "metadata": {},
     "output_type": "execute_result"
    }
   ],
   "execution_count": 49
  },
  {
   "metadata": {
    "ExecuteTime": {
     "end_time": "2025-09-19T10:57:33.884012Z",
     "start_time": "2025-09-19T10:57:33.878817Z"
    }
   },
   "cell_type": "code",
   "source": [
    "def transformer_imbriquee (Liste : list,cr):\n",
    "    return list(map(lambda x:transformer_imbriquee(x , cr ) if isinstance(x,list)  else cr(x) ,Liste))\n",
    "\n",
    "transformer_imbriquee([1, [2, 3, [4, 5]], 6],cr)"
   ],
   "id": "86e2b0bd4ed3e7fb",
   "outputs": [
    {
     "data": {
      "text/plain": [
       "[2, [4, 6, [8, 10]], 12]"
      ]
     },
     "execution_count": 47,
     "metadata": {},
     "output_type": "execute_result"
    }
   ],
   "execution_count": 47
  }
 ],
 "metadata": {
  "language_info": {
   "name": "python"
  },
  "kernelspec": {
   "name": "python3",
   "language": "python",
   "display_name": "Python 3 (ipykernel)"
  }
 },
 "nbformat": 4,
 "nbformat_minor": 5
}
