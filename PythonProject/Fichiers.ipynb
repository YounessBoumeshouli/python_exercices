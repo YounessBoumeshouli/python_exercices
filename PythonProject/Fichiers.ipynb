{
 "cells": [
  {
   "cell_type": "markdown",
   "id": "784cad32",
   "metadata": {},
   "source": [
    "\n",
    "<center>\n",
    "<H1><span style=\"text-align: center; font-weight: bold; color: #746bb3ff;\">Gestion de Fichiers</span></H1>\n",
    "</center>"
   ]
  },
  {
   "cell_type": "markdown",
   "id": "00451f59",
   "metadata": {},
   "source": [
    "<H3><span style=\"font-weight: bold ; color: #19b7f1ff\">Les ressources: </span></H3> \n",
    "\n",
    "* [Documentation Officielle de Python](https://docs.python.org/fr/3/tutorial/inputoutput.html#reading-and-writing-files)\n",
    "* [Reading and Writing Files in Python](https://realpython.com/read-write-files-python/)"
   ]
  },
  {
   "cell_type": "markdown",
   "id": "3d2ea4b9",
   "metadata": {},
   "source": [
    "<H3><span style=\"font-weight: bold; color: #1a8bcdff;\">Challenge 1 : Extraction et Traitement de Fichiers</span></H3>\n",
    "\n",
    "1. <span style=\"font-weight: bold; color: #e56922ff;\">Objectif</span> : </br>\n",
    "Lire plusieurs fichiers texte et combiner leur contenu.\n",
    "\n",
    "2. <span style=\"font-weight: bold; color: #e56922ff;\">Travail à faire</span>:</br>\n",
    "* Utilisez os.listdir() pour lister tous les fichiers texte dans un répertoire.\n",
    "* Utilisez open() pour lire chaque fichier et extraire son contenu.\n",
    "* Combinez le contenu de tous les fichiers en un seul texte."
   ]
  },
  {
   "cell_type": "code",
   "id": "21b6f2cb",
   "metadata": {
    "ExecuteTime": {
     "end_time": "2025-09-17T16:15:15.372727Z",
     "start_time": "2025-09-17T16:15:15.365247Z"
    }
   },
   "source": [
    "import os\n",
    "\n",
    "contents = os.listdir(\"c:\\\\Users\\\\boume\\\\PycharmProjects\\\\PythonProject\\\\fichier_folder\")\n",
    "print(\"Current directory contents:\", contents)\n",
    "contenue = \"\"\n",
    "for file in contents :\n",
    "    contenue_file  = open(\"fichier_folder/\"+file)\n",
    "    contenue += contenue_file.read()\n",
    "print(contenue)"
   ],
   "outputs": [
    {
     "name": "stdout",
     "output_type": "stream",
     "text": [
      "Current directory contents: ['gg.txt', 'hello.txt', 'row.txt']\n",
      "hello world is file number twohello world is file number onehello world is file number three\n"
     ]
    }
   ],
   "execution_count": 6
  },
  {
   "cell_type": "markdown",
   "id": "5240bc4e",
   "metadata": {},
   "source": [
    "<H3><span style=\"font-weight: bold; color: #1a8bcdff;\">Challenge 2 : Recherche de Fichiers</span></H3>\n",
    "\n",
    "1. <span style=\"font-weight: bold; color: #e56922ff;\">Objectif</span> : </br>\n",
    "Vérifier l'existence de fichiers spécifiques et les traiter.\n",
    "\n",
    "2. <span style=\"font-weight: bold; color: #e56922ff;\">Travail à faire</span>:</br>\n",
    "* Utilisez os.path.exists() pour vérifier si des fichiers de configuration (config.yaml) existent dans un répertoire donné.\n",
    "* Si le fichier existe, ouvrez-le et affichez son contenu."
   ]
  },
  {
   "cell_type": "code",
   "id": "fa5797e7",
   "metadata": {
    "ExecuteTime": {
     "end_time": "2025-09-17T16:28:52.770868Z",
     "start_time": "2025-09-17T16:28:52.763228Z"
    }
   },
   "source": [
    "def YamlFileExist (path) :\n",
    "    contents = os.listdir(path)\n",
    "    for file in contents :\n",
    "        name = file.split(\".\")\n",
    "        if name[0] == \"config\":\n",
    "            contenue_file  = open(path+\"/\"+file)\n",
    "            finded = contenue_file.read()\n",
    "            print(finded)\n",
    "\n",
    "YamlFileExist(\"C:\\\\Users\\\\boume\\\\PycharmProjects\\\\PythonProject\")"
   ],
   "outputs": [
    {
     "name": "stdout",
     "output_type": "stream",
     "text": [
      "\n",
      "challenge1\n",
      "config\n",
      "hello you opened the file successfully\n",
      "dict_basics\n",
      "dict_Challenges\n",
      "Fichiers\n",
      "fichier_folder\n",
      "functions\n",
      "lists\n"
     ]
    }
   ],
   "execution_count": 14
  },
  {
   "cell_type": "markdown",
   "id": "c9850348",
   "metadata": {},
   "source": [
    "<H3><span style=\"font-weight: bold; color: #1a8bcdff;\">Challenge 4 : Création de Répertoires</span></H3>\n",
    "\n",
    "1. <span style=\"font-weight: bold; color: #e56922ff;\">Objectif</span> : </br>\n",
    "Créer une structure de répertoires à partir d'une liste de noms.\n",
    "\n",
    "2. <span style=\"font-weight: bold; color: #e56922ff;\">Travail à faire</span>:</br>\n",
    "* Utilisez os.mkdir() pour créer un répertoire principal.\n",
    "* Créez plusieurs sous-répertoires à l'intérieur du répertoire principal en utilisant une liste de noms."
   ]
  },
  {
   "cell_type": "code",
   "id": "07f28968",
   "metadata": {
    "ExecuteTime": {
     "end_time": "2025-09-17T18:32:56.155105Z",
     "start_time": "2025-09-17T18:32:56.152243Z"
    }
   },
   "source": [
    "import os\n",
    "os.mkdir(\"C:\\\\Users\\\\boume\\\\PycharmProjects\\\\PythonProject\\\\newestfolder\")"
   ],
   "outputs": [],
   "execution_count": 2
  },
  {
   "cell_type": "markdown",
   "id": "70d5c0f1",
   "metadata": {},
   "source": [
    "<H3><span style=\"font-weight: bold; color: #1a8bcdff;\">Challenge 5 : Copie Sélective de Fichiers</span></H3>\n",
    "\n",
    "1. <span style=\"font-weight: bold; color: #e56922ff;\">Objectif</span> : </br>\n",
    "Copier des fichiers spécifiques d'un répertoire à un autre.\n",
    "\n",
    "2. <span style=\"font-weight: bold; color: #e56922ff;\">Travail à faire</span>:</br>\n",
    "* Utilisez os.listdir() pour lister tous les fichiers dans un répertoire source.\n",
    "* Utilisez shutil.copy() pour copier uniquement les fichiers avec une extension spécifique (par exemple, .csv) vers un répertoire de destination."
   ]
  },
  {
   "cell_type": "code",
   "id": "d723fec4",
   "metadata": {
    "ExecuteTime": {
     "end_time": "2025-09-17T18:54:16.142790Z",
     "start_time": "2025-09-17T18:54:16.138071Z"
    }
   },
   "source": [
    "import shutil\n",
    "list = os.listdir(\"C:\\\\Users\\\\boume\\\\PycharmProjects\\\\PythonProject\\\\\")\n",
    "def copyByExtension(ext,list):\n",
    "    for file in list :\n",
    "        fullFile = file.split(\".\")\n",
    "        if  ext in fullFile :\n",
    "            shutil.copy(file,'newFolder')\n",
    "            list = os.listdir(\"C:\\\\Users\\\\boume\\\\PycharmProjects\\\\PythonProject\\\\newFolder\")\n",
    "            print(list)\n",
    "copyByExtension(\"yaml\",list)"
   ],
   "outputs": [
    {
     "name": "stdout",
     "output_type": "stream",
     "text": [
      "['config.yaml']\n"
     ]
    }
   ],
   "execution_count": 13
  },
  {
   "cell_type": "markdown",
   "id": "860b9d43",
   "metadata": {},
   "source": [
    "<H3><span style=\"font-weight: bold; color: #1a8bcdff;\">Challenge 6 : Écriture de Fichiers</span></H3>\n",
    "\n",
    "1. <span style=\"font-weight: bold; color: #e56922ff;\">Objectif</span> : </br>\n",
    "Écrire du contenu dans un fichier texte.\n",
    "\n",
    "2. <span style=\"font-weight: bold; color: #e56922ff;\">Travail à faire</span>:</br>\n",
    "* Utilisez open() en mode écriture pour créer un nouveau fichier texte.\n",
    "* Écrivez des lignes de texte dans le fichier en utilisant une boucle.\n",
    "* Fermez le fichier et vérifiez que les données ont été correctement enregistrées."
   ]
  },
  {
   "cell_type": "code",
   "execution_count": null,
   "id": "bacbe689",
   "metadata": {},
   "outputs": [],
   "source": [
    "#  Écrivez du code Python ici\n"
   ]
  },
  {
   "cell_type": "markdown",
   "id": "27cd8680",
   "metadata": {},
   "source": []
  }
 ],
 "metadata": {
  "language_info": {
   "name": "python"
  },
  "kernelspec": {
   "name": "python3",
   "language": "python",
   "display_name": "Python 3 (ipykernel)"
  }
 },
 "nbformat": 4,
 "nbformat_minor": 5
}
