{
 "cells": [
  {
   "cell_type": "markdown",
   "id": "08fd1dc2",
   "metadata": {},
   "source": [
    "\n",
    "<center>\n",
    "<H1><span style=\"text-align: center; font-weight: bold; color: #746bb3ff;\">Les Classes</span></H1>\n",
    "</center>"
   ]
  },
  {
   "cell_type": "markdown",
   "id": "e63c58e8",
   "metadata": {},
   "source": [
    "<H3><span style=\"font-weight: bold ; color: #19b7f1ff\">Les ressources: </span></H3> \n",
    "\n",
    "\n",
    "* [Documentation Officielle](https://docs.python.org/fr/3/tutorial/classes.html)\n",
    "* [Object-Oriented Programming (OOP)](https://realpython.com/python3-object-oriented-programming/)"
   ]
  },
  {
   "cell_type": "markdown",
   "id": "c6010b61",
   "metadata": {},
   "source": [
    "\n",
    "<H3><span style=\"font-weight: bold; color: #1a8bcdff;\">Challenge 1 : Gestion d’un compte bancaire en POO</span></H3>\n",
    "\n",
    "1. <span style=\"font-weight: bold; color: #e56922ff;\">Objectif</span> : </br>\n",
    "S’initier à la programmation orientée objet avec Python à travers la création d’une classe, la manipulation des attributs et l’appel de méthodes. Ce challenge permet de comprendre l'encapsulation des données et les actions associées à un objet.\n",
    "\n",
    "2. <span style=\"font-weight: bold; color: #e56922ff;\">Travail à faire</span>:</br>\n",
    "Crée une classe CompteBancaire avec les caractéristiques suivantes :\n",
    "1. Attributs :<br>\n",
    "* nom_proprietaire (chaîne)<br>\n",
    "* solde (float, initialisé à 0.0 par défaut)<br>\n",
    "2. Méthodes :\n",
    "*  __init__() : initialise le compte avec le nom du propriétaire et un solde optionnel.\n",
    "* deposer(montant) : ajoute le montant au solde.\n",
    "* retirer(montant) : retire le montant du solde si suffisant, sinon affiche un message d’erreur.\n",
    "* afficher_solde() : affiche le nom du propriétaire et le solde actuel."
   ]
  },
  {
   "cell_type": "code",
   "id": "c1fdbf5b",
   "metadata": {
    "ExecuteTime": {
     "end_time": "2025-09-18T13:55:14.615243Z",
     "start_time": "2025-09-18T13:55:14.610948Z"
    }
   },
   "source": [
    "class CompteBancaire :\n",
    "    def __init__(self,nom_proprietaire,solde):\n",
    "        self.nom_proprietaire = nom_proprietaire\n",
    "        self.solde =solde\n",
    "\n",
    "    def deposer(self,montant):\n",
    "        self.solde += montant\n",
    "    def retirer(self,montant) :\n",
    "        if(self.solde > montant):\n",
    "            self.solde -= montant\n",
    "        else :\n",
    "            print(\"error\")\n",
    "    def afficher_solde(self):\n",
    "        print(\"le client :\",self.nom_proprietaire,\"\\n a :\",self.solde)\n",
    "client = CompteBancaire(\"youness\",100)\n",
    "client.deposer(1000)\n",
    "client.afficher_solde()\n",
    "client.retirer(1000)\n",
    "client.afficher_solde()\n"
   ],
   "outputs": [
    {
     "name": "stdout",
     "output_type": "stream",
     "text": [
      "le client : youness \n",
      " a : 1100\n",
      "le client : youness \n",
      " a : 100\n"
     ]
    }
   ],
   "execution_count": 1
  },
  {
   "cell_type": "markdown",
   "id": "c72d3084",
   "metadata": {},
   "source": [
    "<H3><span style=\"font-weight: bold; color: #1a8bcdff;\">Challenge 2 : Système de gestion d’école </span></H3>\n",
    "\n",
    "1. <span style=\"font-weight: bold; color: #e56922ff;\">Objectif</span> : </br>\n",
    "Mettre en pratique les concepts fondamentaux de la POO à travers la modélisation d’un système scolaire. Ce challenge permet de manipuler les classes, l’héritage, le polymorphisme, l'encapsulation, les propriétés et les méthodes abstraites.\n",
    "\n",
    "2. <span style=\"font-weight: bold; color: #e56922ff;\">Travail à faire</span>:</br>\n",
    "* Classe abstraite Personne (à l'aide du module abc):\n",
    "1. Attributs : nom, prenom, age\n",
    "2. Méthode abstraite : afficher_infos()\n",
    "* Classe Etudiant héritée de Personne\n",
    "1. Attributs supplémentaires : matricule, notes (liste de floats)\n",
    "2. Méthodes : ajouter_note(note), moyenne(), afficher_infos() (redéfinition)\n",
    "* Classe Enseignant héritée de Personne\n",
    "1. Attributs supplémentaires : specialite, salaire\n",
    "2. Méthode afficher_infos() (redéfinition) @property et @setter pour sécuriser l’accès/modification du salaire\n",
    "* Classe Ecole\n",
    "1. Attributs : nom, liste_etudiants (liste d’objets Etudiant), liste_enseignants (liste d’objets Enseignant)\n",
    "2. Méthodes :ajouter_etudiant(etudiant), ajouter_enseignant(enseignant), afficher_tous_les_membres() (polymorphisme via afficher_infos())\n"
   ]
  },
  {
   "metadata": {
    "ExecuteTime": {
     "end_time": "2025-09-18T13:55:14.623973Z",
     "start_time": "2025-09-18T13:55:14.620742Z"
    }
   },
   "cell_type": "code",
   "source": [
    "from abc import ABC, abstractmethod\n",
    "class Personne(ABC):\n",
    "    def __init__(self):\n",
    "        self.__nom = ''\n",
    "        self.__prenom = ''\n",
    "        self.__age = ''\n",
    "    @abstractmethod\n",
    "    def afficher_infos(self):\n",
    "         return \"le nom : \" + self.nom + \" le prenom est : \" + self.prenom + \" l age est : \" + str(self.age)\n",
    "\n",
    "    @property\n",
    "    def nom(self):\n",
    "        return self.__nom\n",
    "    @property\n",
    "    def prenom(self):\n",
    "        return self.__prenom\n",
    "    @property\n",
    "    def age(self):\n",
    "        return self.__age\n",
    "    @nom.setter\n",
    "    def nom(self,nom):\n",
    "        self.__nom = nom\n",
    "    @prenom.setter\n",
    "    def prenom(self,prenom):\n",
    "        self.__prenom = prenom\n",
    "    @age.setter\n",
    "\n",
    "    def age(self,age):\n",
    "        self.__age = age"
   ],
   "id": "f497ce40fcf87c3e",
   "outputs": [],
   "execution_count": 2
  },
  {
   "metadata": {
    "ExecuteTime": {
     "end_time": "2025-09-18T13:55:14.631253Z",
     "start_time": "2025-09-18T13:55:14.628516Z"
    }
   },
   "cell_type": "code",
   "source": [
    "class Etudiant(Personne):\n",
    "        def __init__(self,matricules,notes):\n",
    "            self.matricules = matricules\n",
    "            self.notes = notes\n",
    "        def afficher_infos(self):\n",
    "             super().afficher_infos()\n",
    "             return f\" le moyennne des notes : { self.moyenne() } \"\n",
    "\n",
    "        def ajouter_note(self,note):\n",
    "\n",
    "            self.notes.append(note)\n",
    "        def moyenne(self):\n",
    "            moy = sum(self.notes ) / len(self.notes)\n",
    "            return moy"
   ],
   "id": "356c35500cdae768",
   "outputs": [],
   "execution_count": 3
  },
  {
   "metadata": {
    "ExecuteTime": {
     "end_time": "2025-09-18T13:55:14.637905Z",
     "start_time": "2025-09-18T13:55:14.634675Z"
    }
   },
   "cell_type": "code",
   "source": [
    "class Enseignant(Personne):\n",
    "        def __init__(self):\n",
    "            self.__specialite = ''\n",
    "            self.__salaire = 0\n",
    "        def afficher_infos(self):\n",
    "            PersonneInfos = super().afficher_infos()\n",
    "            print(PersonneInfos)\n",
    "            Specialite = self.specialite\n",
    "            Saliare = self.salaire\n",
    "            print(Saliare + Specialite)\n",
    "            return f\"{PersonneInfos} le salaire est  : { self.salaire} la specialite est  : { self.specialite } \"\n",
    "        @property\n",
    "        def salaire(self):\n",
    "            return str(self.__salaire)\n",
    "        @property\n",
    "        def specialite(self):\n",
    "            return self.__specialite\n",
    "        @salaire.setter\n",
    "        def salaire(self,salaire):\n",
    "            self.__salaire = salaire\n",
    "        @specialite.setter\n",
    "        def specialite(self,specialite):\n",
    "            self.__specialite = specialite"
   ],
   "id": "ec4fd6a3e7a43411",
   "outputs": [],
   "execution_count": 4
  },
  {
   "cell_type": "code",
   "id": "f81f7266",
   "metadata": {
    "ExecuteTime": {
     "end_time": "2025-09-18T13:55:14.648210Z",
     "start_time": "2025-09-18T13:55:14.643227Z"
    }
   },
   "source": [
    "\n",
    "class ecole :\n",
    "    def __init__(self,nom):\n",
    "        self.nom = nom\n",
    "        self.listEng = []\n",
    "        self.listEtd = []\n",
    "    def ajouter_etudiant(self,etudiant : Etudiant) :\n",
    "        self.listEtd.append(etudiant)\n",
    "    def ajouter_enseignant(self,enseignant : Enseignant) :\n",
    "        self.listEng.append(enseignant)\n",
    "    def afficher_tous_les_membres(self):\n",
    "        print(\"list etudiants :\")\n",
    "        for i in self.listEtd :\n",
    "             i.afficher_infos()\n",
    "\n",
    "        print(\"list Ensiegnant :\")\n",
    "\n",
    "        for i in self.listEng :\n",
    "             i.afficher_infos()\n",
    "        return None\n",
    "\n",
    "\n",
    "Etudiant1 = Etudiant(177043,[10,20,14])\n",
    "Etudiant1.nom = 'Youness'\n",
    "Etudiant1.prenom = \"Boumes\"\n",
    "Etudiant1.age = 22\n",
    "Etudiant1.ajouter_note(12)\n",
    "Etudiant1.afficher_infos()\n",
    "\n",
    "Etudiant2 = Etudiant(177043,[20,9,19])\n",
    "Etudiant2.nom = \"Youssef\"\n",
    "Etudiant2.prenom = \"Kamal\"\n",
    "Etudiant2.age = 21\n",
    "Etudiant2.ajouter_note(12)\n",
    "Etudiant2.afficher_infos()\n",
    "\n",
    "Eng1 = Enseignant()\n",
    "Eng1.specialite = \"math\"\n",
    "Eng1.nom = \"Hamid\"\n",
    "Eng1.prenom = \"Jalal\"\n",
    "Eng1.age = 12\n",
    "Eng1.salaire = 1000\n",
    "Eng1.afficher_infos()\n",
    "\n",
    "Eng2 = Enseignant()\n",
    "Eng2.specialite = \"pc\"\n",
    "Eng2.nom = \"nabil\"\n",
    "Eng2.prenom = \"mehdi\"\n",
    "Eng2.age = 22\n",
    "Eng2.salaire = 2000\n",
    "Eng2.afficher_infos()\n",
    "print('ecole output')\n",
    "ecole1 = ecole(\"wafa\")\n",
    "ecole1.ajouter_enseignant(Eng1)\n",
    "ecole1.ajouter_enseignant(Eng2)\n",
    "ecole1.ajouter_etudiant(Etudiant1)\n",
    "ecole1.ajouter_etudiant(Etudiant2)\n",
    "ecole1.afficher_tous_les_membres()\n"
   ],
   "outputs": [
    {
     "name": "stdout",
     "output_type": "stream",
     "text": [
      "le nom : Hamid le prenom est : Jalal l age est : 12\n",
      "1000math\n",
      "le nom : nabil le prenom est : mehdi l age est : 22\n",
      "2000pc\n",
      "ecole output\n",
      "list etudiants :\n",
      "list Ensiegnant :\n",
      "le nom : Hamid le prenom est : Jalal l age est : 12\n",
      "1000math\n",
      "le nom : nabil le prenom est : mehdi l age est : 22\n",
      "2000pc\n"
     ]
    }
   ],
   "execution_count": 5
  }
 ],
 "metadata": {
  "kernelspec": {
   "display_name": "Python 3",
   "language": "python",
   "name": "python3"
  },
  "language_info": {
   "codemirror_mode": {
    "name": "ipython",
    "version": 3
   },
   "file_extension": ".py",
   "mimetype": "text/x-python",
   "name": "python",
   "nbconvert_exporter": "python",
   "pygments_lexer": "ipython3",
   "version": "3.13.5"
  }
 },
 "nbformat": 4,
 "nbformat_minor": 5
}
