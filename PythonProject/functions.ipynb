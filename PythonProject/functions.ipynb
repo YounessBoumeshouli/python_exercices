{
 "cells": [
  {
   "metadata": {},
   "cell_type": "raw",
   "source": "",
   "id": "a88fd054869461ad"
  }
 ],
 "metadata": {},
 "nbformat": 4,
 "nbformat_minor": 5
}
