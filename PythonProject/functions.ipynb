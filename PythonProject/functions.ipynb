{
 "cells": [
  {
   "metadata": {},
   "cell_type": "raw",
   "source": [
    "# Challenge 1 : Présentation personnalisé\n",
    "\n",
    "nom = input(\"entrer votre nom    \")\n",
    "salaire = int(input(\"entrer votre salaire \"))\n",
    "nh = int(input(\"entrer votre nombre d'heures \"))\n",
    "salaire_total = 0\n",
    "def horaire_sup(nom,salaire,nh):\n",
    "     if nh > 40:\n",
    "        plus = nh - 40\n",
    "         salaire_nor = 40 * salaire\n",
    "          salaire_supp: float = plus * 1.5 * salaire\n",
    "         salaire_total = salaire_nor + salaire_supp\n",
    "     else:\n",
    "        salaire_total = nh * salaire\n",
    "\n",
    "    print(\"le salairie \", nom, \"  a :\", salaire_total)\n",
    "horaire_sup(nom,salaire,nh)\n",
    "\n",
    "# Challenge  2 : Fonction calculation() – somme et différence\n",
    "\n",
    "def calculation(num1,num2):\n",
    "    print(num1+num2)\n",
    "    print(num1-num2)\n",
    "\n"
   ],
   "id": "a88fd054869461ad"
  }
 ],
 "metadata": {},
 "nbformat": 4,
 "nbformat_minor": 5
}
