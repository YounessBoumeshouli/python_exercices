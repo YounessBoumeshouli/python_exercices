{
 "cells": [
  {
   "metadata": {},
   "cell_type": "markdown",
   "source": "Challenge 1 : La liste des notes",
   "id": "6ae04a7d7ff606c7"
  },
  {
   "metadata": {
    "ExecuteTime": {
     "end_time": "2025-09-16T14:47:46.865736Z",
     "start_time": "2025-09-16T14:47:46.858623Z"
    }
   },
   "cell_type": "code",
   "source": [
    "notes = [12, 4, 14, 11, 18, 13, 7, 10, 5, 9, 15, 8, 14, 16]\n",
    "def calcmoy(notes):\n",
    "    some = 0\n",
    "    for i in range (len(notes)) :\n",
    "        some += notes[i]\n",
    "    moy = some/len(notes)\n",
    "    newlistes = []\n",
    "    for i in range (len(notes)) :\n",
    "        if notes[i] > moy :\n",
    "            newlistes.append(notes[i])\n",
    "    print(newlistes)\n",
    "calcmoy(notes)"
   ],
   "id": "b5f3a5dcdc508cd0",
   "outputs": [
    {
     "name": "stdout",
     "output_type": "stream",
     "text": [
      "[12, 14, 18, 13, 15, 14, 16]\n"
     ]
    }
   ],
   "execution_count": 4
  },
  {
   "metadata": {},
   "cell_type": "markdown",
   "source": "Challenge 2 : Les mots communs",
   "id": "731a08eb947394d4"
  },
  {
   "metadata": {
    "ExecuteTime": {
     "end_time": "2025-09-16T14:53:35.474840Z",
     "start_time": "2025-09-16T14:53:35.465268Z"
    }
   },
   "cell_type": "code",
   "source": [
    "Ch1 = \"Le langage Python est très populaire\"\n",
    "\n",
    "Ch2 = \"Python est un langage puissant\"\n",
    "strings = []\n",
    "n = 0\n",
    "\n",
    "for i in range(len(Ch1)):\n",
    "    if Ch1[i] != \" \":\n",
    "        if len(strings) <= n:\n",
    "            strings.append(\"\")\n",
    "        strings[n] += Ch1[i]\n",
    "    else:\n",
    "        n += 1\n",
    "for i in range (len(strings)) :\n",
    "    if strings[i] in Ch2 :\n",
    "        print(strings[i])\n"
   ],
   "id": "e416d8be0572596c",
   "outputs": [
    {
     "name": "stdout",
     "output_type": "stream",
     "text": [
      "langage\n",
      "Python\n",
      "est\n"
     ]
    }
   ],
   "execution_count": 5
  },
  {
   "metadata": {},
   "cell_type": "markdown",
   "source": "Challenge 3 : Manipulation et tri de listes mixtes",
   "id": "cb1113ea08679746"
  },
  {
   "metadata": {
    "ExecuteTime": {
     "end_time": "2025-09-16T15:05:59.996968Z",
     "start_time": "2025-09-16T15:05:59.990112Z"
    }
   },
   "cell_type": "code",
   "source": [
    "stock = [\"Stylo\", 25, \"Classeur\", 100, \"Crayon\", 12, \"Surligneur\", 40, \"Feutre\", 5]\n",
    "print(stock)\n",
    "\n",
    "str = [\"Stylo\", \"Classeur\", \"Crayon\", \"Surligneur\", \"Feutre\"]\n",
    "num = [ 25,  100, 12,  40,  5]\n",
    "for i in range (len(str)-1) :\n",
    "    for j in range (i+1 ,len(str)):\n",
    "        if str[i] > str[j] :\n",
    "            tmp = str[i]\n",
    "            str[i] = str[j]\n",
    "            str[j] = tmp\n",
    "print(str)\n",
    "\n",
    "for i in range (len(num)-1) :\n",
    "    for j in range (i+1 ,len(num)):\n",
    "        if num[i] > num[j] :\n",
    "            tmp = num[i]\n",
    "            num[i] = num[j]\n",
    "            num[j] = tmp\n",
    "print(num)"
   ],
   "id": "7c29448c284ab07",
   "outputs": [
    {
     "name": "stdout",
     "output_type": "stream",
     "text": [
      "['Stylo', 25, 'Classeur', 100, 'Crayon', 12, 'Surligneur', 40, 'Feutre', 5]\n",
      "['Classeur', 'Crayon', 'Feutre', 'Stylo', 'Surligneur']\n",
      "[5, 12, 25, 40, 100]\n"
     ]
    }
   ],
   "execution_count": 9
  },
  {
   "metadata": {},
   "cell_type": "markdown",
   "source": "Challenge 4 : Recherche d’un élément dans une liste",
   "id": "7933ed794bd190e1"
  },
  {
   "metadata": {
    "ExecuteTime": {
     "end_time": "2025-09-16T15:08:54.584885Z",
     "start_time": "2025-09-16T15:08:54.576964Z"
    }
   },
   "cell_type": "code",
   "source": [
    "Fruits = [\"pomme\", \"banane\", \"orange\", \"kiwi\", \"mangue\"]\n",
    "\n",
    "def rechercheElement (e) :\n",
    "    if e in Fruits :\n",
    "        return True\n",
    "    else :\n",
    "        return False\n",
    "rechercheElement(\"pomme\")\n"
   ],
   "id": "52cc72d652bfd7b0",
   "outputs": [
    {
     "data": {
      "text/plain": [
       "True"
      ]
     },
     "execution_count": 13,
     "metadata": {},
     "output_type": "execute_result"
    }
   ],
   "execution_count": 13
  },
  {
   "metadata": {},
   "cell_type": "markdown",
   "source": "Challenge 5 : Nombre d'occurrences",
   "id": "d5bfe8010d571baa"
  },
  {
   "metadata": {
    "ExecuteTime": {
     "end_time": "2025-09-16T15:15:42.901461Z",
     "start_time": "2025-09-16T15:15:42.895044Z"
    }
   },
   "cell_type": "code",
   "source": [
    "L = [7 , 23 , 5 , 23 , 7 , 19 , 23 , 12 , 29]\n",
    "def CalOcc(string):\n",
    "    str = []\n",
    "    count  = []\n",
    "    for i in range (len(string)):\n",
    "        if string[i] in str :\n",
    "            index = str.index(string[i])\n",
    "            count[index] += 1\n",
    "        else :\n",
    "            count.append(1)\n",
    "            str.append(string[i])\n",
    "    for i in  range (len(str)):\n",
    "        print(str[i] , \" : \" ,count[i])\n",
    "CalOcc(L)"
   ],
   "id": "f6e998706ce41b6a",
   "outputs": [
    {
     "name": "stdout",
     "output_type": "stream",
     "text": [
      "7  :  2\n",
      "23  :  3\n",
      "5  :  1\n",
      "19  :  1\n",
      "12  :  1\n",
      "29  :  1\n"
     ]
    }
   ],
   "execution_count": 16
  }
 ],
 "metadata": {
  "kernelspec": {
   "display_name": "Python 3",
   "language": "python",
   "name": "python3"
  },
  "language_info": {
   "codemirror_mode": {
    "name": "ipython",
    "version": 2
   },
   "file_extension": ".py",
   "mimetype": "text/x-python",
   "name": "python",
   "nbconvert_exporter": "python",
   "pygments_lexer": "ipython2",
   "version": "2.7.6"
  }
 },
 "nbformat": 4,
 "nbformat_minor": 5
}
