{
 "cells": [
  {
   "metadata": {},
   "cell_type": "markdown",
   "source": "values",
   "id": "836d781c74dc72dc"
  },
  {
   "metadata": {
    "ExecuteTime": {
     "end_time": "2025-09-16T16:09:50.451724Z",
     "start_time": "2025-09-16T16:09:50.446281Z"
    }
   },
   "cell_type": "code",
   "source": [
    "users : dict = {0:'Youness',1:'Mohamed',2:'Kamal',3:'Amir',4:'Brahim',}\n",
    "print(users.values())\n",
    "print(users.keys())"
   ],
   "id": "36de4d4207db1804",
   "outputs": [
    {
     "name": "stdout",
     "output_type": "stream",
     "text": [
      "dict_values(['Youness', 'Mohamed', 'Kamal', 'Amir', 'Brahim'])\n",
      "dict_keys([0, 1, 2, 3, 4])\n"
     ]
    }
   ],
   "execution_count": 5
  },
  {
   "metadata": {},
   "cell_type": "markdown",
   "source": "Pop",
   "id": "2464bf23338fd29c"
  },
  {
   "metadata": {
    "ExecuteTime": {
     "end_time": "2025-09-16T16:14:21.046754Z",
     "start_time": "2025-09-16T16:14:21.041541Z"
    }
   },
   "cell_type": "code",
   "source": [
    "user:str = users.pop(1)\n",
    "print(users)\n",
    "print(user)"
   ],
   "id": "83335a85481b2f1d",
   "outputs": [
    {
     "name": "stdout",
     "output_type": "stream",
     "text": [
      "{0: 'Youness', 3: 'Amir', 4: 'Brahim'}\n",
      "Mohamed\n"
     ]
    }
   ],
   "execution_count": 10
  },
  {
   "metadata": {},
   "cell_type": "markdown",
   "source": "the item 2 is gone you can't pop it again",
   "id": "7c262097e55766b2"
  },
  {
   "metadata": {},
   "cell_type": "markdown",
   "source": "",
   "id": "d17b01a2599a2009"
  },
  {
   "metadata": {},
   "cell_type": "markdown",
   "source": "PopItem",
   "id": "a31cf57ffffb31a1"
  },
  {
   "metadata": {
    "ExecuteTime": {
     "end_time": "2025-09-16T16:16:36.220213Z",
     "start_time": "2025-09-16T16:16:36.210253Z"
    }
   },
   "cell_type": "code",
   "source": [
    "users1 : dict = {0:'Youness',1:'Mohamed',2:'Kamal',3:'Amir',4:'Brahim',}\n",
    "users1.popitem()\n",
    "users1.popitem()\n",
    "users1.popitem()\n",
    "users1.popitem()\n",
    "\n",
    "print(users1)"
   ],
   "id": "820e6944c3fa712d",
   "outputs": [
    {
     "name": "stdout",
     "output_type": "stream",
     "text": [
      "{0: 'Youness'}\n"
     ]
    }
   ],
   "execution_count": 12
  },
  {
   "metadata": {},
   "cell_type": "markdown",
   "source": "Copy",
   "id": "86d15bbc802bc53d"
  }
 ],
 "metadata": {
  "kernelspec": {
   "display_name": "Python 3",
   "language": "python",
   "name": "python3"
  },
  "language_info": {
   "codemirror_mode": {
    "name": "ipython",
    "version": 2
   },
   "file_extension": ".py",
   "mimetype": "text/x-python",
   "name": "python",
   "nbconvert_exporter": "python",
   "pygments_lexer": "ipython2",
   "version": "2.7.6"
  }
 },
 "nbformat": 4,
 "nbformat_minor": 5
}
